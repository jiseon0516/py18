{
  "nbformat": 4,
  "nbformat_minor": 0,
  "metadata": {
    "colab": {
      "name": "mid_exam_py18.ipynb",
      "provenance": [],
      "collapsed_sections": [],
      "authorship_tag": "ABX9TyPMGs+EInU6sPmsrAeWQhtZ",
      "include_colab_link": true
    },
    "kernelspec": {
      "name": "python3",
      "display_name": "Python 3"
    }
  },
  "cells": [
    {
      "cell_type": "markdown",
      "metadata": {
        "id": "view-in-github",
        "colab_type": "text"
      },
      "source": [
        "<a href=\"https://colab.research.google.com/github/jiseon0516/py18/blob/master/Notebook/mid_exam_py18.ipynb\" target=\"_parent\"><img src=\"https://colab.research.google.com/assets/colab-badge.svg\" alt=\"Open In Colab\"/></a>"
      ]
    },
    {
      "cell_type": "markdown",
      "metadata": {
        "id": "MJV5NGNtfje6",
        "colab_type": "text"
      },
      "source": [
        "# 1. 다음 식의 연산 결과는?"
      ]
    },
    {
      "cell_type": "code",
      "metadata": {
        "id": "-1J8PU6ee9lP",
        "colab_type": "code",
        "outputId": "3bc59e29-6c2e-4d95-e399-de3cd1f9347f",
        "colab": {
          "base_uri": "https://localhost:8080/",
          "height": 35
        }
      },
      "source": [
        "  a = 5\n",
        "  b = 3\n",
        "  a ** b\n",
        "  # a ** b는 a의  b승이므로 5의 3승하면 125가 답이다."
      ],
      "execution_count": 0,
      "outputs": [
        {
          "output_type": "execute_result",
          "data": {
            "text/plain": [
              "125"
            ]
          },
          "metadata": {
            "tags": []
          },
          "execution_count": 2
        }
      ]
    },
    {
      "cell_type": "code",
      "metadata": {
        "id": "iZbRSqWSfcDe",
        "colab_type": "code",
        "colab": {}
      },
      "source": [
        ""
      ],
      "execution_count": 0,
      "outputs": []
    },
    {
      "cell_type": "markdown",
      "metadata": {
        "id": "pQnHbhinfu0d",
        "colab_type": "text"
      },
      "source": [
        "# 2. 다음 문자열 a에 대하여 슬라이싱을 한 결과는? a = \"Life is too short, You need Python!\"\n",
        "   - a[-16:-8]\n",
        "\n",
        "---\n",
        "\n"
      ]
    },
    {
      "cell_type": "code",
      "metadata": {
        "id": "xFfCMnpof4wa",
        "colab_type": "code",
        "outputId": "63131f27-9a68-481e-9c26-67acc2dfe7af",
        "colab": {
          "base_uri": "https://localhost:8080/",
          "height": 35
        }
      },
      "source": [
        " a = \"Life is too short, You need Python!\"\n",
        " a[-16:-8]\n",
        " # a[-16:-8]는 뒤에서 16번째 자리 부터 뒤에서 8번째 자리 직전까지 이므로 'You need'가 정답이 된다."
      ],
      "execution_count": 0,
      "outputs": [
        {
          "output_type": "execute_result",
          "data": {
            "text/plain": [
              "'You need'"
            ]
          },
          "metadata": {
            "tags": []
          },
          "execution_count": 3
        }
      ]
    },
    {
      "cell_type": "markdown",
      "metadata": {
        "id": "Vhx_l0UYgONv",
        "colab_type": "text"
      },
      "source": [
        "# 3. 다음 list a의 인덱싱 결과는? \n",
        "   - a = [1, 2, (3, 4), ['a', 'b', ['My', 'Life', 'Good']]]\n",
        "   - a[3][-1][0]"
      ]
    },
    {
      "cell_type": "code",
      "metadata": {
        "id": "yN0BBYskgGM9",
        "colab_type": "code",
        "outputId": "f9229ebf-0346-4f01-df39-a38a0c80fdaa",
        "colab": {
          "base_uri": "https://localhost:8080/",
          "height": 35
        }
      },
      "source": [
        "a = [1, 2, (3, 4), ['a', 'b', ['My', 'Life', 'Good']]]\n",
        "a[3][-1][0]\n",
        "# a[3]은 ['a', 'b', ['My', 'Life', 'Good']]이고 a[3]a[-1]은 뒤에서 첫번째니까 ['My', 'Life', 'Good']이다. 그 중에 0번째는 'My'이기 때문에 'My'가 출력된다."
      ],
      "execution_count": 0,
      "outputs": [
        {
          "output_type": "execute_result",
          "data": {
            "text/plain": [
              "'My'"
            ]
          },
          "metadata": {
            "tags": []
          },
          "execution_count": 4
        }
      ]
    },
    {
      "cell_type": "markdown",
      "metadata": {
        "id": "JluKvB-JhBd4",
        "colab_type": "text"
      },
      "source": [
        "# 4. 다음 tuple t1의 슬라이싱 결과는?\n",
        "   - t1 = (0, 1, \"s\", \"t\", \"u\")\n",
        "  - t1[2:-2]"
      ]
    },
    {
      "cell_type": "code",
      "metadata": {
        "id": "ehF2cl_ggg1t",
        "colab_type": "code",
        "outputId": "717ecd59-3301-439a-8ac8-449a27a491e2",
        "colab": {
          "base_uri": "https://localhost:8080/",
          "height": 35
        }
      },
      "source": [
        "t1 = (0, 1, \"s\", \"t\", \"u\")\n",
        "t1[2:-2]\n",
        "# t1[2:-2]는 t1 튜플 안에서 인덱스 2부터 뒤에서 2번째 자리 직전까지 나타내는 것이므로 's'만 출력되는데\n",
        "#  튜플에서 하나의 값을 나타낼 때는 콤마를 찍어야하므로 ('s',)가 출력된다."
      ],
      "execution_count": 0,
      "outputs": [
        {
          "output_type": "execute_result",
          "data": {
            "text/plain": [
              "('s',)"
            ]
          },
          "metadata": {
            "tags": []
          },
          "execution_count": 5
        }
      ]
    },
    {
      "cell_type": "markdown",
      "metadata": {
        "id": "pSoxbw-FheDe",
        "colab_type": "text"
      },
      "source": [
        "# 5. 다음 bool값 출력 중 정확한 것은?\n",
        "   - bool([0,1,2]), bool([0]), bool((0)), bool((0,))"
      ]
    },
    {
      "cell_type": "code",
      "metadata": {
        "id": "uc9Y0YAPhPI-",
        "colab_type": "code",
        "outputId": "33e6cb55-a807-4383-9fad-969c9a86af79",
        "colab": {
          "base_uri": "https://localhost:8080/",
          "height": 35
        }
      },
      "source": [
        "bool([0,1,2]), bool([0]), bool((0)), bool((0,))\n",
        "# bool([0,1,2])는 안에 [0,1,2]라는 인덱스가 들어가있으므로 True이고, bool([0])은 리스트 안에 0이라는 값이 있으므로 True이다.\n",
        "# bool((0))는 null list값으로 아무것도 들어있지 않은 상태이므로 False이고 bool((0,))는 튜플 안에 0이라는 요소가 있으므로 True이다. "
      ],
      "execution_count": 0,
      "outputs": [
        {
          "output_type": "execute_result",
          "data": {
            "text/plain": [
              "(True, True, False, True)"
            ]
          },
          "metadata": {
            "tags": []
          },
          "execution_count": 6
        }
      ]
    },
    {
      "cell_type": "markdown",
      "metadata": {
        "id": "G7wInsEgiFhh",
        "colab_type": "text"
      },
      "source": [
        "# 6. 다음 조건문을 1줄 코드로 변경하시오.\n",
        "  - score = 80\n",
        "\n",
        "\n",
        "> - if score >= 60:\n",
        "   message = \"success\"\n",
        "\n",
        "\n",
        "> - else:\n",
        "  message = \"failure\"\n",
        "\n",
        "\n",
        "\n",
        "\n",
        "\n"
      ]
    },
    {
      "cell_type": "code",
      "metadata": {
        "id": "Aj6zkArmhqZW",
        "colab_type": "code",
        "colab": {}
      },
      "source": [
        "score = 80\n",
        "if score >= 60:\n",
        "  message = \"success\"\n",
        "else:\n",
        "  message = \"failure\"\n",
        "\n",
        "=> message = \"success\" if score>=60 else failure\n",
        "# 한 줄 코드는 조건문이 참일 경우의 실행결과를 적고 if 조건문을 쓴 다음 else 거짓일 경우의 출력결과를 적어야하기 때문에 위의 코드가 나온다."
      ],
      "execution_count": 0,
      "outputs": []
    },
    {
      "cell_type": "markdown",
      "metadata": {
        "id": "t58Q06xNjRhR",
        "colab_type": "text"
      },
      "source": [
        "# 7. 다음 코드의 실행 결과는?\n",
        "   - games = [\"A\", \"B\", \"C\"]\n",
        "\n",
        "   for cnt in range(len(games)):\n",
        "> print(cnt, games[cnt], end=\",\")\n",
        "\n",
        "\n",
        "\n",
        "\n",
        "\n"
      ]
    },
    {
      "cell_type": "code",
      "metadata": {
        "id": "tesplvTji6IX",
        "colab_type": "code",
        "outputId": "631c0a2f-348d-4b49-e3e2-01e2bb1ff4fd",
        "colab": {
          "base_uri": "https://localhost:8080/",
          "height": 35
        }
      },
      "source": [
        "games = [\"A\", \"B\", \"C\"]\n",
        "\n",
        "for cnt in range(len(games)):\n",
        "  print(cnt, games[cnt], end=',')\n",
        "# len(games)는 games의 길이를 나타내므로 3이고 range(0,3)을 실행하므로 1,2,3이 나온다.\n",
        "# end = ','는 줄을 바꾸지 않게 해주는 역할을 한다."
      ],
      "execution_count": 1,
      "outputs": [
        {
          "output_type": "stream",
          "text": [
            "0 A,1 B,2 C,"
          ],
          "name": "stdout"
        }
      ]
    },
    {
      "cell_type": "markdown",
      "metadata": {
        "id": "hU3ssH8WkcV8",
        "colab_type": "text"
      },
      "source": [
        "# 8. 다음의 결과가 출력되지 않은 것은? 'I ate 10 apples. so I was sick for three days.'"
      ]
    },
    {
      "cell_type": "code",
      "metadata": {
        "id": "xZJd5y8Rj4YG",
        "colab_type": "code",
        "colab": {}
      },
      "source": [
        "1. \"I ate {0} apples. so I was sick for {1} days\".format(10,day)\n",
        "  code start\n",
        "  number = 10\n",
        "  day = \"three\"\n",
        "  --------\n",
        "\n",
        "  # f\"I ate {number} apples. so I was sick for {day} days. 문장이 출력되지 않는다.\n",
        "    "
      ],
      "execution_count": 0,
      "outputs": []
    },
    {
      "cell_type": "markdown",
      "metadata": {
        "id": "ruOVDy9qlfeB",
        "colab_type": "text"
      },
      "source": [
        "# 9. 리스트 내포를 사용해 1부터 1000이하의 자연수 중 5의 배수의 합을 구하는 한 줄 코드를 작성하시오."
      ]
    },
    {
      "cell_type": "code",
      "metadata": {
        "id": "6wk0ep_TlyGu",
        "colab_type": "code",
        "colab": {}
      },
      "source": [
        "sum([num for num in range(1,1001) if num % 5 ==0])이 답이 된다.\n",
        "# range는 1부터 1001직전까지이므로 범위를 range(1,1001)을 사용해야 했고 5의 배수의 합을 구하므로 sum을 사용해야 했다.\n",
        "#리스트 내포의 형태를 써서 완성하면 sum([num for num in range(1,1001) if num % 5 ==0])이 된다.\n"
      ],
      "execution_count": 0,
      "outputs": []
    },
    {
      "cell_type": "markdown",
      "metadata": {
        "id": "r3qLJoXAmBcE",
        "colab_type": "text"
      },
      "source": [
        "# 10. 4개 과목의 평균 성적을 구하시오. [a], [b]에 적합한 코드는?\n",
        " - subjects = ['python', 'english', 'math', 'science']\n",
        " - scores = [88, 77, 66, 95]\n",
        " - total = 0\n",
        "\n",
        "- for subject, score in [a]______(subjects, scores):\n",
        "> total += score\n",
        "> print(subject, score)   \n",
        "> print(\"평균 점수 = {0}\".format([b]______))\n",
        "\n",
        "\n"
      ]
    },
    {
      "cell_type": "code",
      "metadata": {
        "id": "wB60K-1BmBCK",
        "colab_type": "code",
        "colab": {}
      },
      "source": [
        "# zip의 리스트 형식인 zip(subject, score)형태를 사용하여 [a]는 zip이라는 것을 알 수 있었고\n",
        "# 평균 점수이기 때문에 전체 점수 total에서 subjects의 길이만큼 나누어줘야 되기 때문에 [b]는 total/len(subjects)를 사용해야 했다."
      ],
      "execution_count": 0,
      "outputs": []
    }
  ]
}