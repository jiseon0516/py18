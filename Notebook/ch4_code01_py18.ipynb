{
  "nbformat": 4,
  "nbformat_minor": 0,
  "metadata": {
    "colab": {
      "name": "ch4_code01_py18.ipynb",
      "provenance": [],
      "collapsed_sections": [],
      "include_colab_link": true
    },
    "kernelspec": {
      "display_name": "Python 3",
      "language": "python",
      "name": "python3"
    },
    "language_info": {
      "codemirror_mode": {
        "name": "ipython",
        "version": 3
      },
      "file_extension": ".py",
      "mimetype": "text/x-python",
      "name": "python",
      "nbconvert_exporter": "python",
      "pygments_lexer": "ipython3",
      "version": "3.7.5"
    }
  },
  "cells": [
    {
      "cell_type": "markdown",
      "metadata": {
        "id": "view-in-github",
        "colab_type": "text"
      },
      "source": [
        "<a href=\"https://colab.research.google.com/github/jiseon0516/py18/blob/master/Notebook/ch4_code01_py18.ipynb\" target=\"_parent\"><img src=\"https://colab.research.google.com/assets/colab-badge.svg\" alt=\"Open In Colab\"/></a>"
      ]
    },
    {
      "cell_type": "markdown",
      "metadata": {
        "colab_type": "text",
        "id": "H4jNE-BMAK3f"
      },
      "source": [
        "# ch4_code01.ipynb\n",
        "## py18\n",
        "- 파이썬 함수\n",
        "    - 입력값을 가지고 어떤 일을 수행한 다음에 그 결과물을 출력\n",
        "        - 반복되는 부분을 함수로 전환.\n",
        "        - 코딩을 모듈화\n",
        "- 매개변수와 인수\n",
        "- 입력값과 결괏값\n",
        "    - return\n",
        "    - 여러 개의 입력을 처리하는 함수(*args)\n",
        "    - 키워드 파라미터 (kwargs)\n",
        "    - 매개변수에 초깃값 미리 설정\n",
        "- lambda 함수 정의"
      ]
    },
    {
      "cell_type": "code",
      "metadata": {
        "id": "hXPcvn1CtW6z",
        "colab_type": "code",
        "colab": {
          "base_uri": "https://localhost:8080/",
          "height": 123
        },
        "outputId": "c8c30c72-6273-4976-9810-077b2d690f39"
      },
      "source": [
        "# ch4_01_function.py\n",
        "#\n",
        "print(\"함수란 무엇인가?\")\n",
        "#######################################\n",
        "# 입력값을 가지고 어떤 일을 수행한 다음에 \n",
        "# 그 결과물을 내어놓는 것\n",
        "#######################################\n",
        "print(\"==>>\", \"입력값을 가지고 어떤 일을 수행한 다음에 그 결과물을 내어놓는 것\")\n",
        "\n",
        "print(\"\\n\")\n",
        "\n",
        "print(\"함수를 사용하는 이유는 무엇일까?\")\n",
        "#######################################\n",
        "# 반복되는 부분을 함수로 전환.\n",
        "# 코딩을 모듈화\n",
        "#######################################\n",
        "print(\"==>>\", \"반복되는 부분을 함수로 전환. 코딩을 모듈화\")"
      ],
      "execution_count": 4,
      "outputs": [
        {
          "output_type": "stream",
          "text": [
            "함수란 무엇인가?\n",
            "==>> 입력값을 가지고 어떤 일을 수행한 다음에 그 결과물을 내어놓는 것\n",
            "\n",
            "\n",
            "함수를 사용하는 이유는 무엇일까?\n",
            "==>> 반복되는 부분을 함수로 전환. 코딩을 모듈화\n"
          ],
          "name": "stdout"
        }
      ]
    },
    {
      "cell_type": "code",
      "metadata": {
        "id": "SN32SYrrX3zL",
        "colab_type": "code",
        "colab": {
          "base_uri": "https://localhost:8080/",
          "height": 52
        },
        "outputId": "64ec4ba7-1688-4b9e-f12d-fc9a0934d9ec"
      },
      "source": [
        "print(\"파이썬 함수의 구조\")\n",
        "#######################################\n",
        "\"\"\"\n",
        "def 함수명(매개변수):\n",
        "    <수행할 문장1>\n",
        "    <수행할 문장2>\n",
        "    ...\n",
        "\"\"\"\n",
        "# ':' 붙여야하고, 들여쓰기 해야 됨\n",
        "# 반환하려면 return 사용"
      ],
      "execution_count": 5,
      "outputs": [
        {
          "output_type": "stream",
          "text": [
            "파이썬 함수의 구조\n"
          ],
          "name": "stdout"
        },
        {
          "output_type": "execute_result",
          "data": {
            "text/plain": [
              "'\\ndef 함수명(매개변수):\\n    <수행할 문장1>\\n    <수행할 문장2>\\n    ...\\n'"
            ]
          },
          "metadata": {
            "tags": []
          },
          "execution_count": 5
        }
      ]
    },
    {
      "cell_type": "code",
      "metadata": {
        "id": "cGH3ZA0oYwSZ",
        "colab_type": "code",
        "colab": {}
      },
      "source": [
        "def add(a):\n",
        "  print(a)\n",
        "# 함수 정의"
      ],
      "execution_count": 0,
      "outputs": []
    },
    {
      "cell_type": "code",
      "metadata": {
        "id": "63UcxZoSY6zU",
        "colab_type": "code",
        "colab": {
          "base_uri": "https://localhost:8080/",
          "height": 52
        },
        "outputId": "ec186479-13e3-45bd-ff60-e206ca549539"
      },
      "source": [
        "add(100)\n",
        "add(\"py18\") \n",
        "# 함수 실행\n",
        "# add(100), add(\"py18\") 실행 ==>> (None, None) 결과값은 return 값이 없기 때문이다.\n",
        "# 동적 타이핑"
      ],
      "execution_count": 9,
      "outputs": [
        {
          "output_type": "stream",
          "text": [
            "100\n",
            "py18\n"
          ],
          "name": "stdout"
        }
      ]
    },
    {
      "cell_type": "code",
      "metadata": {
        "id": "y5Y54rIqYduw",
        "colab_type": "code",
        "colab": {}
      },
      "source": [
        "#######################################\n",
        "# add() 함수를 정의\n",
        "def add(a,b): \n",
        "    return a + b\n"
      ],
      "execution_count": 0,
      "outputs": []
    },
    {
      "cell_type": "code",
      "metadata": {
        "id": "Zph2j-yRZnq3",
        "colab_type": "code",
        "colab": {
          "base_uri": "https://localhost:8080/",
          "height": 70
        },
        "outputId": "0db3164a-0e15-4535-f229-d2a641b9d5dc"
      },
      "source": [
        "# add() 함수를 사용\n",
        "\n",
        "a=3\n",
        "b=4\n",
        "c=add(a, b)\n",
        "print(c)\n",
        "d = add(3, 4)\n",
        "print(d)\n",
        "\n",
        "x=[1,2,3]\n",
        "y=[4,5,6]\n",
        "z=x+y\n",
        "print(z)\n",
        "# "
      ],
      "execution_count": 39,
      "outputs": [
        {
          "output_type": "stream",
          "text": [
            "7\n",
            "7\n",
            "[1, 2, 3, 4, 5, 6]\n"
          ],
          "name": "stdout"
        }
      ]
    },
    {
      "cell_type": "code",
      "metadata": {
        "id": "r-_Vqh1GaiVF",
        "colab_type": "code",
        "colab": {
          "base_uri": "https://localhost:8080/",
          "height": 34
        },
        "outputId": "d0845b89-ba2c-4096-b0f4-781287c58dda"
      },
      "source": [
        "z = add(x, y)\n",
        "print(z)"
      ],
      "execution_count": 20,
      "outputs": [
        {
          "output_type": "stream",
          "text": [
            "[1, 2, 3, 4, 5, 6]\n"
          ],
          "name": "stdout"
        }
      ]
    },
    {
      "cell_type": "code",
      "metadata": {
        "id": "ctuVg4-Ya58V",
        "colab_type": "code",
        "colab": {
          "base_uri": "https://localhost:8080/",
          "height": 34
        },
        "outputId": "d7a27035-1db0-4fe6-b3ca-aa57aa23883b"
      },
      "source": [
        "w = add(\"Hello \", \"Python!\")\n",
        "print(w)"
      ],
      "execution_count": 21,
      "outputs": [
        {
          "output_type": "stream",
          "text": [
            "Hello Python!\n"
          ],
          "name": "stdout"
        }
      ]
    },
    {
      "cell_type": "markdown",
      "metadata": {
        "id": "D7eleHuPbNSI",
        "colab_type": "text"
      },
      "source": [
        "### 매개변수와 인수"
      ]
    },
    {
      "cell_type": "code",
      "metadata": {
        "id": "qfsBvcIyZeUT",
        "colab_type": "code",
        "colab": {}
      },
      "source": [
        "print(\"매개변수와 인수의 차이를 이해하자!\")\n",
        "#######################################\n",
        "# 매개변수는 함수에 입력으로 전달된 값을 받는 변수\n",
        "# 인수는 함수를 호출할 때 전달하는 입력값을 의미\n",
        "#######################################\n",
        "# add() 함수에서의 매개변수와 인수\n",
        "\"\"\"\n",
        "def add(a, b):  # a, b는 매개변수\n",
        "    return a+b\n",
        "print(add(3, 4))  # 3, 4는 인수\n",
        "\"\"\""
      ],
      "execution_count": 0,
      "outputs": []
    },
    {
      "cell_type": "code",
      "metadata": {
        "id": "p90FY5X1bbFZ",
        "colab_type": "code",
        "colab": {
          "base_uri": "https://localhost:8080/",
          "height": 52
        },
        "outputId": "fff9e862-feae-4f21-99b6-b06a5553b983"
      },
      "source": [
        "print(add(a,b)) # 위에 a=3, b=4로 정해줌\n",
        "print(add(10,50))"
      ],
      "execution_count": 23,
      "outputs": [
        {
          "output_type": "stream",
          "text": [
            "7\n",
            "60\n"
          ],
          "name": "stdout"
        }
      ]
    },
    {
      "cell_type": "markdown",
      "metadata": {
        "id": "VzESvDc2byS-",
        "colab_type": "text"
      },
      "source": [
        "### 함수의 결괏값 (return ...)"
      ]
    },
    {
      "cell_type": "code",
      "metadata": {
        "id": "ZxqLqiPcbZvM",
        "colab_type": "code",
        "colab": {
          "base_uri": "https://localhost:8080/",
          "height": 52
        },
        "outputId": "9e444585-9156-440a-f91d-b884fa1a297a"
      },
      "source": [
        "print(\"입력값과 결괏값에 따른 함수의 형태\")\n",
        "#######################################\n",
        "# 입력값 ---> 함수 ----> 결괏값\n",
        "#######################################\n",
        "# 일반적인 함수\n",
        "# 입력값과 결괏값이 있는 함수\n",
        "\"\"\"\n",
        "def 함수이름(매개변수):\n",
        "    <수행할 문장>\n",
        "    ...\n",
        "    return 결과값\n",
        "\"\"\"\n",
        "\n",
        "# add와 add2함수는 다른 함수다.\n",
        "def add2(a, b): \n",
        "    result = a + b \n",
        "    return result\n",
        "\n",
        "\n",
        "# 입력값과 결괏값이 있는 함수의 사용법\n",
        "# 결괏값을 받을 변수 = 함수이름(입력인수1, 입력인수2, ...)\n",
        "a = add2(3, 4)\n",
        "print(a)"
      ],
      "execution_count": 24,
      "outputs": [
        {
          "output_type": "stream",
          "text": [
            "입력값과 결괏값에 따른 함수의 형태\n",
            "7\n"
          ],
          "name": "stdout"
        }
      ]
    },
    {
      "cell_type": "code",
      "metadata": {
        "id": "G_Q9UOA2cHqK",
        "colab_type": "code",
        "colab": {
          "base_uri": "https://localhost:8080/",
          "height": 34
        },
        "outputId": "77bf34cf-780d-4f32-cf3f-65073cda4000"
      },
      "source": [
        "#######################################\n",
        "# 입력값이 없는 함수 (매개변수가 없는 함수)\n",
        "\n",
        "def say(): \n",
        "    return 'Hi'\n",
        "\n",
        "\n",
        "# 입력값이 없는 함수의 사용법\n",
        "# 결괏값을 받을 변수 = 함수이름()\n",
        "a = say()\n",
        "print(a)"
      ],
      "execution_count": 25,
      "outputs": [
        {
          "output_type": "stream",
          "text": [
            "Hi\n"
          ],
          "name": "stdout"
        }
      ]
    },
    {
      "cell_type": "code",
      "metadata": {
        "id": "t_RpznFacwBd",
        "colab_type": "code",
        "colab": {
          "base_uri": "https://localhost:8080/",
          "height": 70
        },
        "outputId": "9969c5ac-0970-4412-8237-2008e0133f04"
      },
      "source": [
        "#######################################\n",
        "# 결괏값이 없는 함수\n",
        "\n",
        "def add3(a, b): \n",
        "    print(\"%d, %d의 합은 %d입니다.\" % (a, b, a+b))\n",
        "\n",
        "\n",
        "# 결괏값이 없는 함수의 사용법\n",
        "# 함수이름(입력인수1, 입력인수2, ...)\n",
        "add3(3, 4)\n",
        "\n",
        "# 다음 결과는 무엇인가?\n",
        "a = add3(3, 4)\n",
        "print(a)\n",
        "#\n",
        "# return 값이 없기 때문에 None을 할당해줌."
      ],
      "execution_count": 28,
      "outputs": [
        {
          "output_type": "stream",
          "text": [
            "3, 4의 합은 7입니다.\n",
            "3, 4의 합은 7입니다.\n",
            "None\n"
          ],
          "name": "stdout"
        }
      ]
    },
    {
      "cell_type": "code",
      "metadata": {
        "id": "D4_7aUCcdF6n",
        "colab_type": "code",
        "colab": {
          "base_uri": "https://localhost:8080/",
          "height": 34
        },
        "outputId": "72a0f4cf-a9dd-4ee5-873a-68c82d8ad376"
      },
      "source": [
        "#######################################\n",
        "# 입력값도 결괏값도 없는 함수\n",
        "\n",
        "def say2(): \n",
        "    print('Hi')\n",
        "\n",
        "\n",
        "# 입력값도 결괏값도 없는 함수의 사용법\n",
        "# 함수이름()\n",
        "say()"
      ],
      "execution_count": 29,
      "outputs": [
        {
          "output_type": "execute_result",
          "data": {
            "text/plain": [
              "'Hi'"
            ]
          },
          "metadata": {
            "tags": []
          },
          "execution_count": 29
        }
      ]
    },
    {
      "cell_type": "code",
      "metadata": {
        "id": "rIR4zBxbdorb",
        "colab_type": "code",
        "colab": {
          "base_uri": "https://localhost:8080/",
          "height": 70
        },
        "outputId": "964261d6-3b7d-42fa-b8de-f4924654b10d"
      },
      "source": [
        "#######################################\n",
        "print(\"매개변수의 값을 지정하여 호출하기\") # 중요\n",
        "#######################################\n",
        "def add4(a, b):\n",
        "    return a+b\n",
        "\n",
        "\n",
        "result = add4(a=3, b=7)  # a에 3, b에 7을 전달\n",
        "print(result)\n",
        "# 매개변수의 순서에 상관없이 사용\n",
        "result2 = add4(b=5, a=3)  # b에 5, a에 3을 전달\n",
        "print(result2)\n",
        "#######################################"
      ],
      "execution_count": 32,
      "outputs": [
        {
          "output_type": "stream",
          "text": [
            "매개변수의 값을 지정하여 호출하기\n",
            "10\n",
            "8\n"
          ],
          "name": "stdout"
        }
      ]
    },
    {
      "cell_type": "code",
      "metadata": {
        "id": "OiQX7vMOeFCb",
        "colab_type": "code",
        "colab": {
          "base_uri": "https://localhost:8080/",
          "height": 134
        },
        "outputId": "ce49d2c7-d9da-458b-cdca-8659347a1c4c"
      },
      "source": [
        "result3 = add4(a=3, 7)\n",
        "print(result3) # SyntaxError: positional argument follows keyword argument"
      ],
      "execution_count": 37,
      "outputs": [
        {
          "output_type": "error",
          "ename": "SyntaxError",
          "evalue": "ignored",
          "traceback": [
            "\u001b[0;36m  File \u001b[0;32m\"<ipython-input-37-8cb01840cb52>\"\u001b[0;36m, line \u001b[0;32m1\u001b[0m\n\u001b[0;31m    result3 = add4(a=3, 7)\u001b[0m\n\u001b[0m                       ^\u001b[0m\n\u001b[0;31mSyntaxError\u001b[0m\u001b[0;31m:\u001b[0m positional argument follows keyword argument\n"
          ]
        }
      ]
    },
    {
      "cell_type": "code",
      "metadata": {
        "id": "EeDWkVJ-eW03",
        "colab_type": "code",
        "colab": {
          "base_uri": "https://localhost:8080/",
          "height": 187
        },
        "outputId": "1106efe8-a16f-46c3-908f-17e7835fb18e"
      },
      "source": [
        "result3 = add4(7, a=3) # TypeError: add4() got multiple values for argument 'a' (a자리 인데 왜 a를 두 번 쓰는것인가?)\n",
        "print(result3)"
      ],
      "execution_count": 36,
      "outputs": [
        {
          "output_type": "error",
          "ename": "TypeError",
          "evalue": "ignored",
          "traceback": [
            "\u001b[0;31m---------------------------------------------------------------------------\u001b[0m",
            "\u001b[0;31mTypeError\u001b[0m                                 Traceback (most recent call last)",
            "\u001b[0;32m<ipython-input-36-77df9d18329b>\u001b[0m in \u001b[0;36m<module>\u001b[0;34m()\u001b[0m\n\u001b[0;32m----> 1\u001b[0;31m \u001b[0mresult3\u001b[0m \u001b[0;34m=\u001b[0m \u001b[0madd4\u001b[0m\u001b[0;34m(\u001b[0m\u001b[0;36m7\u001b[0m\u001b[0;34m,\u001b[0m \u001b[0ma\u001b[0m\u001b[0;34m=\u001b[0m\u001b[0;36m3\u001b[0m\u001b[0;34m)\u001b[0m \u001b[0;31m# TypeError: add4() got multiple values for argument 'a' (a자리 인데 왜 a를 두 번 쓰는것인가?)\u001b[0m\u001b[0;34m\u001b[0m\u001b[0;34m\u001b[0m\u001b[0m\n\u001b[0m\u001b[1;32m      2\u001b[0m \u001b[0mprint\u001b[0m\u001b[0;34m(\u001b[0m\u001b[0mresult3\u001b[0m\u001b[0;34m)\u001b[0m\u001b[0;34m\u001b[0m\u001b[0;34m\u001b[0m\u001b[0m\n",
            "\u001b[0;31mTypeError\u001b[0m: add4() got multiple values for argument 'a'"
          ]
        }
      ]
    },
    {
      "cell_type": "code",
      "metadata": {
        "id": "hhpfrIh_en3z",
        "colab_type": "code",
        "colab": {
          "base_uri": "https://localhost:8080/",
          "height": 34
        },
        "outputId": "5a86bf82-558e-4c19-9aac-4547b72908fe"
      },
      "source": [
        "result3 = add4(b=7, a=3)\n",
        "print(result3)"
      ],
      "execution_count": 38,
      "outputs": [
        {
          "output_type": "stream",
          "text": [
            "10\n"
          ],
          "name": "stdout"
        }
      ]
    },
    {
      "cell_type": "markdown",
      "metadata": {
        "id": "Un9WwPvhhb5c",
        "colab_type": "text"
      },
      "source": [
        "### *args\n",
        "- arg: argument (함수 안에 들어가는 매개변수)"
      ]
    },
    {
      "cell_type": "code",
      "metadata": {
        "id": "nEK0yJOdds59",
        "colab_type": "code",
        "colab": {
          "base_uri": "https://localhost:8080/",
          "height": 34
        },
        "outputId": "ad22cc68-3dbb-4390-fa85-d507438991da"
      },
      "source": [
        "#######################################\n",
        "print(\"입력값이 몇 개가 될지 모를 때는 어떻게 해야 할까?\")\n",
        "#######################################\n",
        "\"\"\"\n",
        "def 함수이름(*매개변수): \n",
        "    <수행할 문장>\n",
        "    ...\n",
        "\"\"\"\n",
        "\n",
        "def add_many(*args):\n",
        "    result = 0 \n",
        "    for i in args: \n",
        "        result = result + i \n",
        "    return result \n",
        "# 변수 개수만큼 더해주고 result에 값을 넣어 반환해주는 코드 - 중요"
      ],
      "execution_count": 42,
      "outputs": [
        {
          "output_type": "stream",
          "text": [
            "입력값이 몇 개가 될지 모를 때는 어떻게 해야 할까?\n"
          ],
          "name": "stdout"
        }
      ]
    },
    {
      "cell_type": "code",
      "metadata": {
        "id": "SsgLrDuNiiEb",
        "colab_type": "code",
        "colab": {
          "base_uri": "https://localhost:8080/",
          "height": 34
        },
        "outputId": "78af2f71-9a02-4635-831f-76c4960a3feb"
      },
      "source": [
        "add_many(1, 2, 3)"
      ],
      "execution_count": 44,
      "outputs": [
        {
          "output_type": "execute_result",
          "data": {
            "text/plain": [
              "6"
            ]
          },
          "metadata": {
            "tags": []
          },
          "execution_count": 44
        }
      ]
    },
    {
      "cell_type": "code",
      "metadata": {
        "id": "Rok1VgXVhvhO",
        "colab_type": "code",
        "colab": {
          "base_uri": "https://localhost:8080/",
          "height": 34
        },
        "outputId": "c4d47924-4e1e-466d-b39f-4b6fb0ca59a6"
      },
      "source": [
        "add_many(1, 2, 3)\n",
        "add_many(1, 2, 3, 4, 5, 6, 7, 8, 9)\n",
        "\n",
        "result = add_many(1,2,3,4,5,6,7,8,9,10) # 결괏값 x => 45라는 값을 출력해주는 식이 있어야됨.\n",
        "print(result)"
      ],
      "execution_count": 46,
      "outputs": [
        {
          "output_type": "stream",
          "text": [
            "55\n"
          ],
          "name": "stdout"
        }
      ]
    },
    {
      "cell_type": "code",
      "metadata": {
        "id": "3s-J7GTXiQVl",
        "colab_type": "code",
        "colab": {
          "base_uri": "https://localhost:8080/",
          "height": 70
        },
        "outputId": "4e1bc96d-7ecd-4cbf-a1c2-c4906486a7dc"
      },
      "source": [
        "#######################################\n",
        "print(\"여러 개의 입력을 처리하는 함수(*args)\")\n",
        "#######################################\n",
        "\n",
        "def add_mul(choice, *z):\n",
        "    if choice == \"add\":\n",
        "        result = 0 \n",
        "        for i in z:\n",
        "            result = result + i \n",
        "    elif choice == \"mul\":\n",
        "        result = 1 \n",
        "        for i in z: \n",
        "            result = result * i \n",
        "    return result \n",
        "\n",
        "# add\n",
        "result = add_mul('add', 1,2,3,4,5)\n",
        "print(result)\n",
        "\n",
        "# multiply\n",
        "result = add_mul('mul', 1,2,3,4,5)\n",
        "print(result)"
      ],
      "execution_count": 49,
      "outputs": [
        {
          "output_type": "stream",
          "text": [
            "여러 개의 입력을 처리하는 함수(*args)\n",
            "15\n",
            "120\n"
          ],
          "name": "stdout"
        }
      ]
    },
    {
      "cell_type": "markdown",
      "metadata": {
        "id": "WXlu7RekkMCX",
        "colab_type": "text"
      },
      "source": [
        "### 키워드 파라미터 **kwargs"
      ]
    },
    {
      "cell_type": "code",
      "metadata": {
        "id": "kuVW62O6jWM4",
        "colab_type": "code",
        "colab": {
          "base_uri": "https://localhost:8080/",
          "height": 70
        },
        "outputId": "758df58a-fc1d-440d-edd5-0626f2b34602"
      },
      "source": [
        "#\n",
        "#######################################\n",
        "print(\"키워드 파라미터 **kwargs\")\n",
        "#######################################\n",
        "\n",
        "def print_kwargs(**kwargs):\n",
        "    print(kwargs)\n",
        "\n",
        "\n",
        "# print_kwargs 함수는 매개변수 kwargs를 출력하는 함수\n",
        "#\n",
        "print_kwargs(a=1) # '매개변수=인수'꼴로 정의\n",
        "\n",
        "print_kwargs(name='foo', age=3)\n",
        "\n",
        "#\n",
        "# **kwargs처럼 매개변수 이름 앞에 **을 붙이면 매개변수 \n",
        "# kwargs는 딕셔너리가 되고 모든 key=value 형태의 결괏값이 \n",
        "# 그 딕셔너리에 저장된다.\n",
        "#"
      ],
      "execution_count": 50,
      "outputs": [
        {
          "output_type": "stream",
          "text": [
            "키워드 파라미터 **kwargs\n",
            "{'a': 1}\n",
            "{'name': 'foo', 'age': 3}\n"
          ],
          "name": "stdout"
        }
      ]
    },
    {
      "cell_type": "code",
      "metadata": {
        "id": "p3h_s9VMkUqh",
        "colab_type": "code",
        "colab": {
          "base_uri": "https://localhost:8080/",
          "height": 52
        },
        "outputId": "2423cd8e-0a5b-4e3d-99bb-4e3b49263f3f"
      },
      "source": [
        "#######################################\n",
        "print(\"함수의 결괏값은 언제나 하나\")\n",
        "#######################################\n",
        "#\n",
        "def add_and_mul(a,b): \n",
        "    return a+b, a*b\n",
        "\n",
        "# 1,2 == (1,2)\n",
        "# add_and_mul() 사용 1.\n",
        "result = add_and_mul(3,4) # (7,12)\n",
        "\n",
        "print(result)"
      ],
      "execution_count": 51,
      "outputs": [
        {
          "output_type": "stream",
          "text": [
            "함수의 결괏값은 언제나 하나\n",
            "(7, 12)\n"
          ],
          "name": "stdout"
        }
      ]
    },
    {
      "cell_type": "code",
      "metadata": {
        "id": "PJGeVgN4lOuh",
        "colab_type": "code",
        "colab": {
          "base_uri": "https://localhost:8080/",
          "height": 34
        },
        "outputId": "0f9874ae-969d-4c59-a13f-8e18fb3fb360"
      },
      "source": [
        "# add_and_mul() 사용 2.\n",
        "result1, result2 = add_and_mul(3, 4)\n",
        "\n",
        "result1, result2"
      ],
      "execution_count": 52,
      "outputs": [
        {
          "output_type": "execute_result",
          "data": {
            "text/plain": [
              "(7, 12)"
            ]
          },
          "metadata": {
            "tags": []
          },
          "execution_count": 52
        }
      ]
    },
    {
      "cell_type": "markdown",
      "metadata": {
        "id": "z5vQweL_mIMG",
        "colab_type": "text"
      },
      "source": [
        "### 잘못된 함수 사용"
      ]
    },
    {
      "cell_type": "code",
      "metadata": {
        "id": "VWBjx4lxlz3e",
        "colab_type": "code",
        "colab": {
          "base_uri": "https://localhost:8080/",
          "height": 52
        },
        "outputId": "5b97bec5-a178-453d-d193-d7cd46cba2e4"
      },
      "source": [
        "#######################################\n",
        "print(\"잘못된 함수\")\n",
        "#######################################\n",
        "def add_and_mul2(a,b): \n",
        "    return a+b \n",
        "    return a*b  # Not working!!\n",
        "# return은 함수의 끝인데 두 개가 있으므로 맨 처음만 return 됨.\n",
        "# 첫 번째 return 실행 후 함수 종료\n",
        "\n",
        "result = add_and_mul2(2, 3)\n",
        "print(result)"
      ],
      "execution_count": 53,
      "outputs": [
        {
          "output_type": "stream",
          "text": [
            "잘못된 함수\n",
            "5\n"
          ],
          "name": "stdout"
        }
      ]
    },
    {
      "cell_type": "markdown",
      "metadata": {
        "id": "YZcz3lpwmhOV",
        "colab_type": "text"
      },
      "source": [
        "### return의 용도"
      ]
    },
    {
      "cell_type": "code",
      "metadata": {
        "id": "wnhwvpcBmGKE",
        "colab_type": "code",
        "colab": {
          "base_uri": "https://localhost:8080/",
          "height": 52
        },
        "outputId": "381e0361-67c4-421e-8f40-c5730a96fcb4"
      },
      "source": [
        "#######################################\n",
        "print(\"return 의 용도: 함수 실행 종료\")\n",
        "#######################################\n",
        "def say_nick(nick): \n",
        "    if nick == \"바보\": \n",
        "        return # return 뒤 아무 것도 없으면 반환하지 않음.\n",
        "    print(\"나의 별명은 %s 입니다.\" % nick)\n",
        "\n",
        "\n",
        "say_nick(\"홍길동\") # '나의 별명은 홍길동 입니다.' 출력\n",
        "# say_nick(\"바보\") # 실행 결과 없음"
      ],
      "execution_count": 55,
      "outputs": [
        {
          "output_type": "stream",
          "text": [
            "return 의 용도: 함수 실행 종료\n",
            "나의 별명은 홍길동 입니다.\n"
          ],
          "name": "stdout"
        }
      ]
    },
    {
      "cell_type": "markdown",
      "metadata": {
        "id": "nUl_uCxJnLJM",
        "colab_type": "text"
      },
      "source": [
        "### 매개변수에 초깃값 미리 설정하기"
      ]
    },
    {
      "cell_type": "code",
      "metadata": {
        "id": "xBjL8mi-myYj",
        "colab_type": "code",
        "colab": {
          "base_uri": "https://localhost:8080/",
          "height": 194
        },
        "outputId": "ab308a6b-1dd3-4bf7-e381-43c664954d82"
      },
      "source": [
        "#----------------------------------------\n",
        "#######################################\n",
        "print(\"매개변수에 초깃값 미리 설정하기\")\n",
        "#######################################\n",
        "def say_myself(name, old, man=True): # man=True 미리 설정\n",
        "    print(\"나의 이름은 %s 입니다.\" % name) \n",
        "    print(\"나이는 %d살입니다.\" % old) \n",
        "    if man: \n",
        "        print(\"남자입니다.\")\n",
        "    else: \n",
        "        print(\"여자입니다.\")\n",
        "    \n",
        "\n",
        "say_myself(\"박응용\", 27) # 기본값 그대로\n",
        "say_myself(\"박응용\", 27, True) # 남자\n",
        "\n",
        "say_myself(\"박응용\", 27, False) # 여자"
      ],
      "execution_count": 58,
      "outputs": [
        {
          "output_type": "stream",
          "text": [
            "매개변수에 초깃값 미리 설정하기\n",
            "나의 이름은 박응용 입니다.\n",
            "나이는 27살입니다.\n",
            "남자입니다.\n",
            "나의 이름은 박응용 입니다.\n",
            "나이는 27살입니다.\n",
            "남자입니다.\n",
            "나의 이름은 박응용 입니다.\n",
            "나이는 27살입니다.\n",
            "여자입니다.\n"
          ],
          "name": "stdout"
        }
      ]
    },
    {
      "cell_type": "code",
      "metadata": {
        "id": "l93ZA5mlnJV_",
        "colab_type": "code",
        "colab": {
          "base_uri": "https://localhost:8080/",
          "height": 134
        },
        "outputId": "63a2e873-c4e5-4838-d35b-80e4e0373230"
      },
      "source": [
        "\n",
        "def say_myself2(name, man=True, old): \n",
        "    print(\"나의 이름은 %s 입니다.\" % name) \n",
        "    print(\"나이는 %d살입니다.\" % old) \n",
        "    if man: \n",
        "        print(\"남자입니다.\") \n",
        "    else:\n",
        "        print(\"여자입니다.\")\n",
        "    \n",
        "# SyntaxError: non-default argument follows default argument (초기화시키고 싶은 매개변수를 항상 뒤쪽에 놓는다.)\n",
        "# 초깃값을 설정해 놓은 매개변수 뒤에 \n",
        "# 초깃값을 설정해 놓지 않은 매개변수는 사용할 수 없다\n",
        "# 초기화시키고 싶은 매개변수를 항상 뒤쪽에 놓는다.\n",
        "# 키워드형식의 매개변수는 항상 뒤에 지정."
      ],
      "execution_count": 60,
      "outputs": [
        {
          "output_type": "error",
          "ename": "SyntaxError",
          "evalue": "ignored",
          "traceback": [
            "\u001b[0;36m  File \u001b[0;32m\"<ipython-input-60-6c97f6d33df8>\"\u001b[0;36m, line \u001b[0;32m2\u001b[0m\n\u001b[0;31m    def say_myself2(name, man=True, old):\u001b[0m\n\u001b[0m                   ^\u001b[0m\n\u001b[0;31mSyntaxError\u001b[0m\u001b[0;31m:\u001b[0m non-default argument follows default argument\n"
          ]
        }
      ]
    },
    {
      "cell_type": "code",
      "metadata": {
        "id": "iZD2scUZobrZ",
        "colab_type": "code",
        "colab": {
          "base_uri": "https://localhost:8080/",
          "height": 70
        },
        "outputId": "842493c2-efd3-4523-d4b2-8fe8ea49defb"
      },
      "source": [
        "def say_myself2(name, old, man=True): \n",
        "    print(\"나의 이름은 %s 입니다.\" % name) \n",
        "    print(\"나이는 %d살입니다.\" % old) \n",
        "    if man: \n",
        "        print(\"남자입니다.\") \n",
        "    else:\n",
        "        print(\"여자입니다.\")\n",
        "\n",
        "say_myself2(\"이지선\", 21, False)"
      ],
      "execution_count": 65,
      "outputs": [
        {
          "output_type": "stream",
          "text": [
            "나의 이름은 이지선 입니다.\n",
            "나이는 21살입니다.\n",
            "여자입니다.\n"
          ],
          "name": "stdout"
        }
      ]
    },
    {
      "cell_type": "markdown",
      "metadata": {
        "id": "knlgAH5ZpCdo",
        "colab_type": "text"
      },
      "source": [
        "### 함수 안에서 선언한 변수의 효력 범위\n",
        "- scope of a variable"
      ]
    },
    {
      "cell_type": "code",
      "metadata": {
        "id": "00egsA9Hn_1a",
        "colab_type": "code",
        "colab": {
          "base_uri": "https://localhost:8080/",
          "height": 52
        },
        "outputId": "2ce47f54-1f5e-44a3-833b-3ed30a6724e2"
      },
      "source": [
        "#######################################\n",
        "print(\"함수 안에서 선언한 변수의 효력 범위\")\n",
        "# 전역변수\n",
        "# 지역 변수, 자동 변수\n",
        "#######################################\n",
        "\n",
        "# vartest.py\n",
        "a = 1 # 전역 변수: 전체 코드에서 다 사용 가능한 변수\n",
        "def vartest(a): # 지역변수(매개변수)\n",
        "    a = a +1\n",
        "\n",
        "# 전역변수 a와 지역변수 a는 다른 변수이다. \n",
        "\n",
        "vartest(a)\n",
        "print(a)\n",
        "# 전역변수와 지역변수 구분하는 것 100% 기말고사 퀴즈 출제"
      ],
      "execution_count": 74,
      "outputs": [
        {
          "output_type": "stream",
          "text": [
            "함수 안에서 선언한 변수의 효력 범위\n",
            "1\n"
          ],
          "name": "stdout"
        }
      ]
    },
    {
      "cell_type": "code",
      "metadata": {
        "id": "mHMCp0DOqOTL",
        "colab_type": "code",
        "colab": {
          "base_uri": "https://localhost:8080/",
          "height": 52
        },
        "outputId": "5d312db0-0e6a-461e-e46f-f621b829233d"
      },
      "source": [
        "a = 1 \n",
        "def vartest(a): \n",
        "    a = a +1\n",
        "    print(\"지역변수 a =\", a)\n",
        "\n",
        "vartest(a) # 범위를 벗어났기 때문에 출력x\n",
        "print(\"전역변수 a =\", a)"
      ],
      "execution_count": 77,
      "outputs": [
        {
          "output_type": "stream",
          "text": [
            "지역변수 a = 2\n",
            "전역변수 a = 1\n"
          ],
          "name": "stdout"
        }
      ]
    },
    {
      "cell_type": "code",
      "metadata": {
        "id": "qGM2UfU3pSTc",
        "colab_type": "code",
        "colab": {
          "base_uri": "https://localhost:8080/",
          "height": 205
        },
        "outputId": "ae70476d-67a4-4472-f2df-6fca0d2ba94f"
      },
      "source": [
        "# vartest_error.py\n",
        "def vartest2(zz):\n",
        "    zz = zz + 1\n",
        "\n",
        "vartest2(3)\n",
        "print(zz)  # NameError: name 'zz' is not defined"
      ],
      "execution_count": 79,
      "outputs": [
        {
          "output_type": "error",
          "ename": "NameError",
          "evalue": "ignored",
          "traceback": [
            "\u001b[0;31m---------------------------------------------------------------------------\u001b[0m",
            "\u001b[0;31mNameError\u001b[0m                                 Traceback (most recent call last)",
            "\u001b[0;32m<ipython-input-79-2ba0629b3cdc>\u001b[0m in \u001b[0;36m<module>\u001b[0;34m()\u001b[0m\n\u001b[1;32m      3\u001b[0m \u001b[0;34m\u001b[0m\u001b[0m\n\u001b[1;32m      4\u001b[0m \u001b[0mvartest2\u001b[0m\u001b[0;34m(\u001b[0m\u001b[0;36m3\u001b[0m\u001b[0;34m)\u001b[0m\u001b[0;34m\u001b[0m\u001b[0;34m\u001b[0m\u001b[0m\n\u001b[0;32m----> 5\u001b[0;31m \u001b[0mprint\u001b[0m\u001b[0;34m(\u001b[0m\u001b[0mzz\u001b[0m\u001b[0;34m)\u001b[0m  \u001b[0;31m# Error\u001b[0m\u001b[0;34m\u001b[0m\u001b[0;34m\u001b[0m\u001b[0m\n\u001b[0m",
            "\u001b[0;31mNameError\u001b[0m: name 'zz' is not defined"
          ]
        }
      ]
    },
    {
      "cell_type": "code",
      "metadata": {
        "id": "RgnrFUh9q9M6",
        "colab_type": "code",
        "colab": {
          "base_uri": "https://localhost:8080/",
          "height": 52
        },
        "outputId": "0e82e22d-2e8c-4fcf-86d1-4050ebe9c628"
      },
      "source": [
        "#######################################\n",
        "print(\"함수 안에서 함수 밖의 변수를 변경하는 방법\")\n",
        "# return 사용\n",
        "# global 변수 사용\n",
        "#######################################\n",
        "# 1. return 사용하기\n",
        "a = 1 \n",
        "def vartest3(a): \n",
        "    a = a +1 \n",
        "    return a\n",
        "\n",
        "a = vartest3(a) \n",
        "print(a)\n",
        "# 전역변수 a를 함수 안으로 넣어서 지역변수 a를 반환한 후 출력하면 문제 없음."
      ],
      "execution_count": 80,
      "outputs": [
        {
          "output_type": "stream",
          "text": [
            "함수 안에서 함수 밖의 변수를 변경하는 방법\n",
            "2\n"
          ],
          "name": "stdout"
        }
      ]
    },
    {
      "cell_type": "code",
      "metadata": {
        "id": "ZWYe1HN1rsKv",
        "colab_type": "code",
        "colab": {}
      },
      "source": [
        "# 2. global 명령어 사용하기 - 가능한 사용하지 않기\n",
        "a = 1 \n",
        "def vartest4(): \n",
        "    global a \n",
        "    a = a+1\n",
        "\n",
        "vartest4() \n",
        "print(a)"
      ],
      "execution_count": 0,
      "outputs": []
    },
    {
      "cell_type": "markdown",
      "metadata": {
        "id": "KRQX4JsesjhH",
        "colab_type": "text"
      },
      "source": [
        "## lambda 함수 정의 \n",
        "- 이름 없는 함수를 정의"
      ]
    },
    {
      "cell_type": "code",
      "metadata": {
        "id": "PTVS9Sa6sDAp",
        "colab_type": "code",
        "colab": {
          "base_uri": "https://localhost:8080/",
          "height": 70
        },
        "outputId": "5809abc4-014b-40d7-fadb-1e1153a71830"
      },
      "source": [
        "#--------   lambda  -------------------\n",
        "# 매우 중요\n",
        "#######################################\n",
        "print(\"lambda\")\n",
        "#######################################\n",
        "# lambda는 함수를 생성할 때 사용하는 예약어로 def와 동일한 역할을 한다. \n",
        "# 보통 함수를 한줄로 간결하게 만들 때 사용한다.\n",
        "#\n",
        "# lambda 사용법\n",
        "#\n",
        "# lambda 매개변수1, 매개변수2, ... : 매개변수를 이용한 표현식\n",
        "#\n",
        "print(\"lambda를 이용한 add 함수\")\n",
        "\n",
        "add = lambda a, b: a+b\n",
        "\n",
        "result = add(3, 4)\n",
        "print(result)\n",
        "\n",
        "# lambda 예약어로 만든 함수는 return 명령어가 없어도 결괏값을 돌려준다."
      ],
      "execution_count": 81,
      "outputs": [
        {
          "output_type": "stream",
          "text": [
            "lambda\n",
            "lambda를 이용한 add 함수\n",
            "7\n"
          ],
          "name": "stdout"
        }
      ]
    },
    {
      "cell_type": "code",
      "metadata": {
        "id": "W8Ktf0lLsxQv",
        "colab_type": "code",
        "colab": {
          "base_uri": "https://localhost:8080/",
          "height": 34
        },
        "outputId": "307013a1-e29b-44d9-9a1e-97e9e8e59b00"
      },
      "source": [
        "################################\n",
        "# lambda 함수의 응용\n",
        "#\n",
        "models = ['K-3000', 'N-1000', 'T-2000', 'X-5000']\n",
        "sorted(models, key=lambda x: x[-4:]) \n",
        "# models라는 리스트에서 3000,10000,2000,5000을 key 안에 넣고 sorted를 이용해 정렬해준다.\n",
        "\n",
        "# So cool!!!\n"
      ],
      "execution_count": 83,
      "outputs": [
        {
          "output_type": "execute_result",
          "data": {
            "text/plain": [
              "['N-1000', 'T-2000', 'K-3000', 'X-5000']"
            ]
          },
          "metadata": {
            "tags": []
          },
          "execution_count": 83
        }
      ]
    },
    {
      "cell_type": "code",
      "metadata": {
        "id": "Nn87uHUqtW64",
        "colab_type": "code",
        "outputId": "e5188d96-dd3e-45d0-d9f5-1c694b962ebf",
        "colab": {
          "base_uri": "https://localhost:8080/",
          "height": 35
        }
      },
      "source": [
        "# vartest.py\n",
        "a = 1\n",
        "def vartest(a):\n",
        "    a = a +1\n",
        "    # print(a)\n",
        "\n",
        "vartest(a)\n",
        "print(a)"
      ],
      "execution_count": 0,
      "outputs": [
        {
          "output_type": "stream",
          "text": [
            "1\n"
          ],
          "name": "stdout"
        }
      ]
    },
    {
      "cell_type": "code",
      "metadata": {
        "id": "0Y0fMfkPtW62",
        "colab_type": "code",
        "colab": {}
      },
      "source": [
        "# function_test.py\n",
        "\n",
        "# scope_test()\n",
        "x = 5\n",
        "\n",
        "\n",
        "def scope_test():\n",
        "    print(x)\n",
        "    print(x+5)\n",
        "    # x += 5\n",
        "\n",
        "\n",
        "# scope_test()\n",
        "\n",
        "# *args : multiple parameters\n",
        "\n",
        "\n",
        "def args_test(*args):\n",
        "    print(type(args))\n",
        "    print(args)\n",
        "    for arg in args:\n",
        "        print(arg)\n",
        "\n",
        "\n",
        "# args_test(1, 2, 3, 4)\n",
        "# args_test(list(range(4)))\n",
        "\n",
        "# **kawargs : keyword arguments\n",
        "\n",
        "\n",
        "def kwarg_test(**kwargs):\n",
        "    print(type(kwargs))\n",
        "    print(kwargs)\n",
        "    for item in kwargs.items():\n",
        "        print(item)\n",
        "\n",
        "\n",
        "# kwarg_test(a=1, b='hi')\n",
        "kwarg_test(x=[1,2,3], y='Hello')\n"
      ],
      "execution_count": 0,
      "outputs": []
    },
    {
      "cell_type": "markdown",
      "metadata": {
        "id": "aiBB3U0ge03F",
        "colab_type": "text"
      },
      "source": [
        "## 도전 코딩\n",
        "- A 학급에 총 10명의 학생이 있다. 이 학생들의 중간고사 점수는 다음과 같다.\n",
        "\n",
        "- A = [70, 60, 55, 75, 95, 90, 80, 80, 85, 100]\n",
        "\n",
        "> 함수를 사용하여 A 학급의 평균 점수를 구해 보자.\n",
        ">> 함수명: average_class(A)\n"
      ]
    },
    {
      "cell_type": "code",
      "metadata": {
        "id": "fGBlcLGN-3pd",
        "colab_type": "code",
        "colab": {}
      },
      "source": [
        ""
      ],
      "execution_count": 0,
      "outputs": []
    }
  ]
}