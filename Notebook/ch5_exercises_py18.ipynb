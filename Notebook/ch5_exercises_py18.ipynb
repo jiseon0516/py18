{
  "nbformat": 4,
  "nbformat_minor": 0,
  "metadata": {
    "colab": {
      "name": "ch5_exercises_py18.ipynb",
      "provenance": [],
      "collapsed_sections": [],
      "include_colab_link": true
    },
    "kernelspec": {
      "name": "python3",
      "display_name": "Python 3"
    }
  },
  "cells": [
    {
      "cell_type": "markdown",
      "metadata": {
        "id": "view-in-github",
        "colab_type": "text"
      },
      "source": [
        "<a href=\"https://colab.research.google.com/github/jiseon0516/py18/blob/master/Notebook/ch5_exercises_py18.ipynb\" target=\"_parent\"><img src=\"https://colab.research.google.com/assets/colab-badge.svg\" alt=\"Open In Colab\"/></a>"
      ]
    },
    {
      "cell_type": "markdown",
      "metadata": {
        "id": "ovY5jkD5dpxE",
        "colab_type": "text"
      },
      "source": [
        "## ch5_exercises_py18.ipynb"
      ]
    },
    {
      "cell_type": "markdown",
      "metadata": {
        "id": "SZw6UnxQWYBe",
        "colab_type": "text"
      },
      "source": [
        "## Q1.\n",
        "> 다음은 Calculator 클래스이다.\n",
        "\n",
        "```\n",
        "class Calculator:\n",
        "    def __init__(self):\n",
        "        self.value = 0\n",
        "\n",
        "    def add(self, val):\n",
        "        self.value += val\n",
        "```\n",
        "---\n",
        "> 위 클래스를 상속하는 UpgradeCalculator를 만들고 값을 뺄 수 있는 minus 메서드를 추가해 보자. \n",
        ">> 즉 다음과 같이 동작하는 클래스를 만들어야 한다.\n",
        "```\n",
        "cal = UpgradeCalculator()\n",
        "cal.add(10)\n",
        "cal.minus(7)\n",
        "print(cal.value) # 10에서 7을 뺀 3을 출력\n",
        "```\n"
      ]
    },
    {
      "cell_type": "code",
      "metadata": {
        "id": "rdLoUR9WCyE7",
        "colab_type": "code",
        "colab": {}
      },
      "source": [
        "# [Q1] Code  \n",
        "class UpgradeCalculator(Calculator):\n",
        "  def minus(self, val):\n",
        "    self.value -= val\n",
        "\n",
        "# 클래스 상속: class 클래스 이름(상속할 클래스 이름):을 붙인 후 추가할 함수를 입력한다."
      ],
      "execution_count": 0,
      "outputs": []
    },
    {
      "cell_type": "code",
      "metadata": {
        "id": "rUNNaqJPdg7B",
        "colab_type": "code",
        "colab": {
          "base_uri": "https://localhost:8080/",
          "height": 34
        },
        "outputId": "def21343-9454-4564-c5f3-37ed60393a8e"
      },
      "source": [
        "# [Q1] Code - 실행\n",
        "class Calculator:\n",
        "  def __init__(self):\n",
        "    self.value = 0\n",
        "\n",
        "  def add(self, val):\n",
        "    self.value += val\n",
        "\n",
        "class UpgradeCalculator(Calculator):\n",
        "  def minus(self, val):\n",
        "    self.value -= val\n",
        "\n",
        "cal = UpgradeCalculator()\n",
        "cal.add(10)\n",
        "cal.minus(7)\n",
        "\n",
        "print(cal.value)"
      ],
      "execution_count": 3,
      "outputs": [
        {
          "output_type": "stream",
          "text": [
            "3\n"
          ],
          "name": "stdout"
        }
      ]
    },
    {
      "cell_type": "markdown",
      "metadata": {
        "colab_type": "text",
        "id": "re2-XrUYXF1m"
      },
      "source": [
        "## Q2.\n",
        "> 객체변수 value가 100 이상의 값은 가질 수 없도록 제한하는 MaxLimitCalculator 클래스를 만들어 보자. \n",
        ">> 즉 다음과 같이 동작해야 한다.\n",
        "```\n",
        "cal = MaxLimitCalculator()\n",
        "cal.add(50) # 50 더하기\n",
        "cal.add(60) # 60 더하기\n",
        "print(cal.value) # 100 출력\n",
        "```\n",
        ">> 단 반드시 다음과 같은 Calculator 클래스를 상속해서 만들어야 한다.\n",
        "```\n",
        "class Calculator:\n",
        "    def __init__(self):\n",
        "        self.value = 0\n",
        "    def add(self, val):\n",
        "        self.value += val\n",
        "```"
      ]
    },
    {
      "cell_type": "code",
      "metadata": {
        "colab_type": "code",
        "id": "5MBLUZ5WXF1q",
        "colab": {}
      },
      "source": [
        "# [Q2] Code\n",
        "class MaxLimitCalculator(Calculator):\n",
        "  def add(self,val):\n",
        "    self.value += val\n",
        "    if self.value >= 100: \n",
        "      self.value = 100\n",
        "\n",
        "# 클래스 상속:  class 클래스 이름(상속할 클래스 이름):을 붙인 후 추가할 함수를 입력한다.\n",
        "# add함수에 100을 넘지 못하게 하는 게 하고 넘으면 100을 출력해야 하므로\n",
        "# Calculator에 있는 add함수에 if문을 넣어 100을 넘으면 self.value 값에 100을 넣어 출력하도록 하는 코드를 추가한 것이다."
      ],
      "execution_count": 0,
      "outputs": []
    },
    {
      "cell_type": "code",
      "metadata": {
        "id": "6I2KSyqODu0x",
        "colab_type": "code",
        "colab": {
          "base_uri": "https://localhost:8080/",
          "height": 34
        },
        "outputId": "e35cb08b-b559-493f-a403-fe1d899f2c59"
      },
      "source": [
        "# [Q2] Code - 실행\n",
        "class Calculator:\n",
        "  def __init__(self):\n",
        "    self.value = 0\n",
        "  def add(self, val):\n",
        "    self.value += val\n",
        "\n",
        "class MaxLimitCalculator(Calculator):\n",
        "  def add(self,val):\n",
        "    self.value += val\n",
        "    if self.value >= 100: \n",
        "      self.value = 100\n",
        "\n",
        "cal = MaxLimitCalculator()\n",
        "cal.add(50)\n",
        "cal.add(60)\n",
        "\n",
        "print(cal.value)"
      ],
      "execution_count": 12,
      "outputs": [
        {
          "output_type": "stream",
          "text": [
            "100\n"
          ],
          "name": "stdout"
        }
      ]
    },
    {
      "cell_type": "markdown",
      "metadata": {
        "colab_type": "text",
        "id": "UZy8lu_BXGnT"
      },
      "source": [
        "## Q3.\n",
        "> 다음 결과를 예측해 보자.\n",
        "\n",
        "- 하나.\n",
        "```\n",
        "all([1, 2, abs(-3)-3])\n",
        "```\n",
        "\n",
        "- 둘.\n",
        "```\n",
        "chr(ord('a')) == 'a'\n",
        "```"
      ]
    },
    {
      "cell_type": "code",
      "metadata": {
        "colab_type": "code",
        "id": "H9T_sXHzXGnW",
        "colab": {
          "base_uri": "https://localhost:8080/",
          "height": 34
        },
        "outputId": "7caa4362-f887-475b-c5b5-83b1b2dd34d1"
      },
      "source": [
        "# [Q3] Code - 하나\n",
        "all([1, 2, abs(-3)-3])\n",
        "\n",
        "# 리스트 안에 1, 2, abs(-3)-3 의 3개의 요소가 있다.\n",
        "# abs(x)는 파이썬 클래스의 내장 함수로 어떤 숫자를 입력받았을 때, 그 숫자의 절댓값을 돌려주는 함수이다.\n",
        "# 이 코드에서 x에 -3을 넣었으므로 3이 출력된다.\n",
        "# abs(-3)-3은 3에 -3을 더한 것이므로 0이 되고 결과적으로 리스트에 1, 2, 0의 3개의 요소가 들어가게 된다.\n",
        "# all(x)는 입력받은 x가 모두 참이면 True, 하나라도 거짓이면 False를 돌려주는 함수이다.\n",
        "# 리스트에서 0은 거짓에 해당하는데 코드에 들어가있으므로 전체 결과는 False로 출력된다."
      ],
      "execution_count": 14,
      "outputs": [
        {
          "output_type": "execute_result",
          "data": {
            "text/plain": [
              "False"
            ]
          },
          "metadata": {
            "tags": []
          },
          "execution_count": 14
        }
      ]
    },
    {
      "cell_type": "code",
      "metadata": {
        "id": "Znl1xNpDHkPg",
        "colab_type": "code",
        "colab": {
          "base_uri": "https://localhost:8080/",
          "height": 34
        },
        "outputId": "b7a0a4de-207e-424e-cab5-39bfbf7c3198"
      },
      "source": [
        "# [Q3] Code - 둘\n",
        "chr(ord('a')) == 'a'\n",
        "\n",
        "# chr(i)는 아스키 코드 값을 입력받아 그 코드에 해당하는 문자를 출력하는 함수이다.\n",
        "# ord(c)는 문자의 아스키 코드 값을 돌려주는 함수이다.\n",
        "# chr(i)와 ord(c)는 서로 반대 함수이다.\n",
        "# a의 아스키 코드 값은 97이므로 ord('a')는 97을 돌려준다.\n",
        "# chr(97)과 같으므로 이에 해당하는 문자는 a이고 a를 돌려준다.\n",
        "# 'a' == 'a'는 참이므로 True를 출력한다."
      ],
      "execution_count": 16,
      "outputs": [
        {
          "output_type": "execute_result",
          "data": {
            "text/plain": [
              "True"
            ]
          },
          "metadata": {
            "tags": []
          },
          "execution_count": 16
        }
      ]
    },
    {
      "cell_type": "markdown",
      "metadata": {
        "colab_type": "text",
        "id": "fqypxxqTXHY7"
      },
      "source": [
        "## Q4.\n",
        "> filter와 lambda를 사용하여 리스트 [1, -2, 3, -5, 8, -3]에서 음수를 모두 제거해 보자."
      ]
    },
    {
      "cell_type": "code",
      "metadata": {
        "colab_type": "code",
        "id": "oQ5UnmayXHY-",
        "colab": {
          "base_uri": "https://localhost:8080/",
          "height": 34
        },
        "outputId": "7779cc9c-3618-45e3-8a42-12e654d56a1a"
      },
      "source": [
        "# [Q4] Code - 1\n",
        "def remove(n):\n",
        "  result = []\n",
        "  for i in n:\n",
        "    if i >= 0:\n",
        "      result.append(i)\n",
        "  return result\n",
        "\n",
        "print(remove([1, -2, 3, -5, 8, -3]))\n",
        "\n",
        "# 일반적인 방법으로 for와 if문을 사용해 0보다 크거나 같으면 result에 담아 출력하는 코드를 사용했다."
      ],
      "execution_count": 18,
      "outputs": [
        {
          "output_type": "stream",
          "text": [
            "[1, 3, 8]\n"
          ],
          "name": "stdout"
        }
      ]
    },
    {
      "cell_type": "code",
      "metadata": {
        "id": "mDy5GAnpJKxd",
        "colab_type": "code",
        "colab": {
          "base_uri": "https://localhost:8080/",
          "height": 34
        },
        "outputId": "a7842d87-4528-4a43-ae0a-9607e0e44161"
      },
      "source": [
        "# [Q4] Code - 2\n",
        "def remove(x):\n",
        "  return x >= 0\n",
        "\n",
        "print(list(filter(remove, [1, -2, 3, -5, 8, -3])))\n",
        "\n",
        "# filter만 사용한 방법으로 0보다 크거나 같으면 반환해주는 remove함수를 새로 만들었다.\n",
        "# filter와 remove 함수를 이용해 음수를 제거하고 list 형태로 반환해주는 코드를 만들어 결과를 출력했다."
      ],
      "execution_count": 19,
      "outputs": [
        {
          "output_type": "stream",
          "text": [
            "[1, 3, 8]\n"
          ],
          "name": "stdout"
        }
      ]
    },
    {
      "cell_type": "code",
      "metadata": {
        "id": "riThLA_bJ15K",
        "colab_type": "code",
        "colab": {
          "base_uri": "https://localhost:8080/",
          "height": 34
        },
        "outputId": "e8210fa7-d2d7-405c-f0cb-0e2bbbe06ad0"
      },
      "source": [
        "# [Q4] Code - 3(답)\n",
        "list(filter(lambda x: x >= 0, [1, -2, 3, -5, 8, -3]))\n",
        "\n",
        "# filter와 lambda를 사용해 코드를 최소화한 방식이다.\n",
        "# lambda x: x>=0, filter를 이용해 x가 0보다 크거나 같은 것만 묶어서(참인 값들만 묶어서) 돌려주는데 list를 사용하였으므로 리스트 형태로 출력된다."
      ],
      "execution_count": 20,
      "outputs": [
        {
          "output_type": "execute_result",
          "data": {
            "text/plain": [
              "[1, 3, 8]"
            ]
          },
          "metadata": {
            "tags": []
          },
          "execution_count": 20
        }
      ]
    },
    {
      "cell_type": "markdown",
      "metadata": {
        "colab_type": "text",
        "id": "NKsvciXZXIL-"
      },
      "source": [
        "## Q5.\n",
        "> 234라는 10진수의 16진수는 다음과 같이 구할 수 있다.\n",
        "```\n",
        "hex(234)\n",
        "'0xea'\n",
        "```\n",
        "> 이번에는 반대로 16진수 문자열 0xea를 10진수로 변경해 보자.\n",
        ">>※ 내장 함수 int를 활용해 보자.\n"
      ]
    },
    {
      "cell_type": "code",
      "metadata": {
        "colab_type": "code",
        "id": "5MZQYOVjXIL_",
        "colab": {
          "base_uri": "https://localhost:8080/",
          "height": 34
        },
        "outputId": "d5f9bb02-2d50-4de9-f0ef-1ae0e34d38cf"
      },
      "source": [
        "# [Q5] Code\n",
        "int('0xea', 16)\n",
        "\n",
        "# int(x)는 문자열 형태의 숫자나 소수점이 있는 숫자 등을 정수 형태로 돌려주는 함수이다.\n",
        "# int(x, radix)는 radix진수로 표현된 문자열 x를 10진수로 변환하여 돌려주는 함수이다.\n",
        "# 16진수인 문자열 0xea를 10진수로 변환하기 위해서는 int(x, radix) 함수를 사용해야되고,\n",
        "# x에 0xea, radix에 16을 넣으면 된다."
      ],
      "execution_count": 21,
      "outputs": [
        {
          "output_type": "execute_result",
          "data": {
            "text/plain": [
              "234"
            ]
          },
          "metadata": {
            "tags": []
          },
          "execution_count": 21
        }
      ]
    },
    {
      "cell_type": "markdown",
      "metadata": {
        "colab_type": "text",
        "id": "-3KHtOOoXJBV"
      },
      "source": [
        "## Q6.\n",
        "> map과 lambda를 사용하여 [1, 2, 3, 4] 리스트의 각 요솟값에 3이 곱해진 리스트 [3, 6, 9, 12]를 만들어 보자.\n"
      ]
    },
    {
      "cell_type": "code",
      "metadata": {
        "colab_type": "code",
        "id": "AjYR0lUaXJBa",
        "colab": {
          "base_uri": "https://localhost:8080/",
          "height": 34
        },
        "outputId": "6a897d17-e8eb-4075-e02a-2c892cdb096e"
      },
      "source": [
        "# [Q6] Code - 1\n",
        "def three(number):\n",
        "  result = []\n",
        "  for i in number:\n",
        "    result.append(i*3)\n",
        "  return result\n",
        "\n",
        "result = three([1, 2, 3, 4])\n",
        "print(result)\n",
        "\n",
        "# 일반적인 방법으로 입력받을 요솟값에 3을 곱해 result에 넣고 반환해주는 three 함수를 만들어 출력해주는 함수를 만들어 사용해다."
      ],
      "execution_count": 22,
      "outputs": [
        {
          "output_type": "stream",
          "text": [
            "[3, 6, 9, 12]\n"
          ],
          "name": "stdout"
        }
      ]
    },
    {
      "cell_type": "code",
      "metadata": {
        "id": "bg8GALGZLzyQ",
        "colab_type": "code",
        "colab": {
          "base_uri": "https://localhost:8080/",
          "height": 34
        },
        "outputId": "e396f8a8-3cac-432b-d201-d3e039279e3d"
      },
      "source": [
        "# [Q6] Code - 2\n",
        "def three(x): return x*3\n",
        "list(map(three, [1, 2, 3, 4]))\n",
        "\n",
        "# map함수는 함수와 반복 가능한 자료형을 입력 받아 함수에서 수행한 결과를 묶어 돌려주는 함수이다.\n",
        "# 입력받은 요솟값에 3을 곱해 돌려주는 three함수를 간단하게 만들었고\n",
        "# map함수를 이용해 나온 결과를 list형태로 변환시켜 출력하는 코드이다."
      ],
      "execution_count": 23,
      "outputs": [
        {
          "output_type": "execute_result",
          "data": {
            "text/plain": [
              "[3, 6, 9, 12]"
            ]
          },
          "metadata": {
            "tags": []
          },
          "execution_count": 23
        }
      ]
    },
    {
      "cell_type": "code",
      "metadata": {
        "id": "txrYM3DzMSXb",
        "colab_type": "code",
        "colab": {
          "base_uri": "https://localhost:8080/",
          "height": 34
        },
        "outputId": "568e8e66-8995-440f-cc76-923f856f4267"
      },
      "source": [
        "# [Q6] Code - 3(답)\n",
        "list(map(lambda x: x*3, [1, 2, 3, 4]))\n",
        "\n",
        "# map함수와 lambda를 사용해 코드를 최소화한 방식이다.\n",
        "# lambda를 이용해 3을 곱해주고 map함수를 이용해 출력하는 코드를 이용했고 list 형태로 변환시켜 출력해주는 코드이다."
      ],
      "execution_count": 24,
      "outputs": [
        {
          "output_type": "execute_result",
          "data": {
            "text/plain": [
              "[3, 6, 9, 12]"
            ]
          },
          "metadata": {
            "tags": []
          },
          "execution_count": 24
        }
      ]
    },
    {
      "cell_type": "markdown",
      "metadata": {
        "colab_type": "text",
        "id": "YrS3b88QbmKo"
      },
      "source": [
        "## Q7.\n",
        "> 다음 리스트의 최댓값과 최솟값의 합을 구해 보자.\n",
        ">> [-8, 2, 7, 5, -3, 5, 0, 1]"
      ]
    },
    {
      "cell_type": "code",
      "metadata": {
        "colab_type": "code",
        "id": "Ll_2InMWbmKq",
        "colab": {
          "base_uri": "https://localhost:8080/",
          "height": 34
        },
        "outputId": "ae7436bd-ff42-4aab-8f13-083642bd0236"
      },
      "source": [
        "# [Q7] Code\n",
        "x = [-8, 2, 7, 5, -3, 5, 0, 1]\n",
        "max(x) + min(x) \n",
        "\n",
        "# max(x)함수는 x를 입력받아 최댓값을 돌려주는 함수이다.\n",
        "# min(x)함수는 x를 입력받아 최솟값을 돌려주는 함수이다.\n",
        "# max(x)와 min(x)는 서로 반대 함수이다.\n",
        "# a에 리스트 값을 담고 max, min 함수를 이용해 출력된 값을 더해준다."
      ],
      "execution_count": 28,
      "outputs": [
        {
          "output_type": "execute_result",
          "data": {
            "text/plain": [
              "-1"
            ]
          },
          "metadata": {
            "tags": []
          },
          "execution_count": 28
        }
      ]
    },
    {
      "cell_type": "markdown",
      "metadata": {
        "colab_type": "text",
        "id": "OcSDHHYkK6lZ"
      },
      "source": [
        "## Q8.\n",
        "> 17 / 3의 결과는 다음과 같다.\n",
        "```\n",
        "17 / 3\n",
        "5.666666666666667\n",
        "```\n",
        "> 위와 같은 결괏값 5.666666666666667을 소숫점 4자리까지만 반올림하여 표시해 보자."
      ]
    },
    {
      "cell_type": "code",
      "metadata": {
        "colab_type": "code",
        "id": "GmaaVGqrK6le",
        "colab": {
          "base_uri": "https://localhost:8080/",
          "height": 34
        },
        "outputId": "97d90044-8de0-4932-bbc1-e2c4392abbb1"
      },
      "source": [
        "# [Q8] Code\n",
        "round(17/3, 4)\n",
        "\n",
        "# round(number[,ndigits])함수는 숫자를 입력받아 입력받은 자리수까지 반올림해주는 함수이다.\n",
        "# round(17/3, 4)는 17/3한 결과를 소수점 4자리까지 반올림해주는 코드이고\n",
        "# 6을 반올림 하면 7이므로 5.6667이 출력된다."
      ],
      "execution_count": 29,
      "outputs": [
        {
          "output_type": "execute_result",
          "data": {
            "text/plain": [
              "5.6667"
            ]
          },
          "metadata": {
            "tags": []
          },
          "execution_count": 29
        }
      ]
    },
    {
      "cell_type": "markdown",
      "metadata": {
        "colab_type": "text",
        "id": "anwB_DjuK60j"
      },
      "source": [
        "## Q9.\n",
        "> 다음과 같이 실행할 때 입력값을 모두 더하여 출력하는 스크립트\n",
        "\n",
        "> (C:\\doit\\myargv.py)를 작성해 보자.\n",
        "```\n",
        "C:\\> cd doit\n",
        "C:\\doit> python myargv.py 1 2 3 4 5 6 7 8 9 10\n",
        "55\n",
        "```\n",
        ">> ※ 외장 함수 sys.argv를 사용해 보자."
      ]
    },
    {
      "cell_type": "code",
      "metadata": {
        "colab_type": "code",
        "id": "QJTNoSqtMrIM",
        "colab": {}
      },
      "source": [
        "# [Q9] Code\n",
        "\n"
      ],
      "execution_count": 0,
      "outputs": []
    },
    {
      "cell_type": "markdown",
      "metadata": {
        "colab_type": "text",
        "id": "PVA_-b0TK7Ai"
      },
      "source": [
        "## Q10.\n",
        "> os 모듈을 사용하여 다음과 같이 동작하도록 코드를 작성해 보자.\n",
        "\n",
        "1. ./doit 디렉터리로 이동한다.\n",
        "2. dir 명령을 실행하고 그 결과를 변수에 담는다.\n",
        "3. dir 명령의 결과를 출력한다."
      ]
    },
    {
      "cell_type": "code",
      "metadata": {
        "colab_type": "code",
        "id": "XCnUj3obMr3v",
        "colab": {}
      },
      "source": [
        "# [Q10] Code\n",
        "\n"
      ],
      "execution_count": 0,
      "outputs": []
    },
    {
      "cell_type": "markdown",
      "metadata": {
        "colab_type": "text",
        "id": "8xQf6xJ4K7M_"
      },
      "source": [
        "## Q11.\n",
        "> glob 모듈을 사용하여 ./doit 디렉터리의 파일 중 확장자가 .py인 파일만 출력하는 프로그램을 작성해 보자."
      ]
    },
    {
      "cell_type": "code",
      "metadata": {
        "colab_type": "code",
        "id": "UCO7aRh5Msx6",
        "colab": {}
      },
      "source": [
        "# [Q11] Code\n",
        "\n"
      ],
      "execution_count": 0,
      "outputs": []
    },
    {
      "cell_type": "markdown",
      "metadata": {
        "colab_type": "text",
        "id": "Q6QYCZ9HM3DW"
      },
      "source": [
        "## Q12.\n",
        "> time 모듈을 사용하여 현재 날짜와 시간을 다음과 같은 형식으로 출력해 보자.\n",
        "\n",
        "- 2018/04/03 17:20:32"
      ]
    },
    {
      "cell_type": "code",
      "metadata": {
        "colab_type": "code",
        "id": "80vm6aSMM3gf",
        "colab": {}
      },
      "source": [
        "# [Q12] Code\n",
        "\n"
      ],
      "execution_count": 0,
      "outputs": []
    },
    {
      "cell_type": "markdown",
      "metadata": {
        "colab_type": "text",
        "id": "x2IYgozSM3gd"
      },
      "source": [
        "## Q13.\n",
        "> random 모듈을 사용하여 로또 번호(1~45 사이의 숫자 6개)를 생성해 보자(단 중복된 숫자가 있으면 안 됨)."
      ]
    },
    {
      "cell_type": "code",
      "metadata": {
        "colab_type": "code",
        "id": "FiKNOu9HM3DX",
        "colab": {}
      },
      "source": [
        "# [Q13] Code\n",
        "\n"
      ],
      "execution_count": 0,
      "outputs": []
    },
    {
      "cell_type": "markdown",
      "metadata": {
        "id": "2ljBDShkbqZO",
        "colab_type": "text"
      },
      "source": [
        "## 코딩 연습 결과를 github에 올리기\n",
        "> 완성된 ipython 노트북 파일을 각자의 github에 올리시오.\n",
        "\n",
        "- github 계정 만들기 (계정이 없는 학생)\n",
        "    1. github에 sign up (Google gmail 계정을 이용해서 만드시오.)\n",
        "- github에 노트 올리기\n",
        "    2. github에 각자의 id로 repo를 만드시오. (한번 만들면 계속 재사용)\n",
        "    3. github repo에 연습결과 노트를 올리시오.\n",
        "        - 제출노트: ch5_exercises_id.ipynb\n"
      ]
    },
    {
      "cell_type": "code",
      "metadata": {
        "id": "OnCR-YNCc8B6",
        "colab_type": "code",
        "colab": {}
      },
      "source": [
        ""
      ],
      "execution_count": 0,
      "outputs": []
    }
  ]
}