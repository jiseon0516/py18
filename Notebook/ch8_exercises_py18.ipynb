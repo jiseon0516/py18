{
  "nbformat": 4,
  "nbformat_minor": 0,
  "metadata": {
    "colab": {
      "name": "ch8_exercises_py18.ipynb",
      "provenance": [],
      "collapsed_sections": [],
      "include_colab_link": true
    },
    "kernelspec": {
      "name": "python3",
      "display_name": "Python 3"
    }
  },
  "cells": [
    {
      "cell_type": "markdown",
      "metadata": {
        "id": "view-in-github",
        "colab_type": "text"
      },
      "source": [
        "<a href=\"https://colab.research.google.com/github/jiseon0516/py18/blob/master/Notebook/ch8_exercises_py18.ipynb\" target=\"_parent\"><img src=\"https://colab.research.google.com/assets/colab-badge.svg\" alt=\"Open In Colab\"/></a>"
      ]
    },
    {
      "cell_type": "markdown",
      "metadata": {
        "id": "ovY5jkD5dpxE",
        "colab_type": "text"
      },
      "source": [
        "# ch8_exercises_py18.ipynb"
      ]
    },
    {
      "cell_type": "markdown",
      "metadata": {
        "id": "SZw6UnxQWYBe",
        "colab_type": "text"
      },
      "source": [
        "Q1. 문자열 바꾸기\n",
        "> 다음과 같은 문자열이 있다.\n",
        "\n",
        "```\n",
        "a:b:c:d\n",
        "```\n",
        "\n",
        "> 문자열의 split와 join 함수를 사용하여 위 문자열을 다음과 같이 고치시오.\n",
        "\n",
        "```\n",
        "a#b#c#d\n",
        "```\n"
      ]
    },
    {
      "cell_type": "code",
      "metadata": {
        "id": "rUNNaqJPdg7B",
        "colab_type": "code",
        "colab": {
          "base_uri": "https://localhost:8080/",
          "height": 34
        },
        "outputId": "a149ddac-a3f3-4174-a604-6be0a545d41c"
      },
      "source": [
        "# [Q1] Code-1 \n",
        "a = \"a:b:c:d\"\n",
        "b = a.split(':')\n",
        "c = \"#\".join(b)\n",
        "\n",
        "print(c)"
      ],
      "execution_count": null,
      "outputs": [
        {
          "output_type": "stream",
          "text": [
            "a#b#c#d\n"
          ],
          "name": "stdout"
        }
      ]
    },
    {
      "cell_type": "markdown",
      "metadata": {
        "id": "7vAWLaYCg9Tj",
        "colab_type": "text"
      },
      "source": [
        "### Code 1-1 풀이\n",
        "1. 바꾸고자 하는 문자열을 k라는 변수에 담아준다.\n",
        "2. 문자열을 나눠주는 split 함수를 이용해 ':'를 기준으로 k를 나눠준다.\n",
        "3. 나눠준 문자들을 변수 m에 담아준다.\n",
        "4. 문자열을 삽입할 수 있게 해주는 join 함수를 이용해 나눠진 사이에 #을 넣어준다.\n",
        "5. 넣은 것을 n이라는 변수에 담고 출력해준다."
      ]
    },
    {
      "cell_type": "code",
      "metadata": {
        "colab_type": "code",
        "id": "x0OIIHRmDwtd",
        "colab": {
          "base_uri": "https://localhost:8080/",
          "height": 34
        },
        "outputId": "12c13f4d-c9ae-4755-dfdd-08e12b0da681"
      },
      "source": [
        "# [Q1] Code-2\n",
        "a = \"a:b:c:d\"\n",
        "t = a.replace(\":\",\"#\")\n",
        "print(t)"
      ],
      "execution_count": null,
      "outputs": [
        {
          "output_type": "stream",
          "text": [
            "a#b#c#d\n"
          ],
          "name": "stdout"
        }
      ]
    },
    {
      "cell_type": "markdown",
      "metadata": {
        "id": "4jv1FqJ5W8bI",
        "colab_type": "text"
      },
      "source": [
        "### Code 1-2 풀이\n",
        "- 문자열을 바꿔주는 replace 함수를 이용해 ':'을 '#'으로 바꿨다."
      ]
    },
    {
      "cell_type": "markdown",
      "metadata": {
        "colab_type": "text",
        "id": "re2-XrUYXF1m"
      },
      "source": [
        "## Q2. 딕셔너리 값 추출하기\n",
        "> 다음은 딕셔너리의 a에서 'C'라는 key에 해당하는 value를 출력하는 프로그램이다.\n",
        "```\n",
        ">>> a = {'A':90, 'B':80}\n",
        ">>> a['C']\n",
        "Traceback (most recent call last):\n",
        "  File \"<stdin>\", line 1, in <module>\n",
        "KeyError: 'C'\n",
        "```\n",
        ">> a 딕셔너리에는 'C'라는 key가 없으므로 위와 같은 오류가 발생한다.  \n",
        ">>'C'에 해당하는 key 값이 없을 경우 오류 대신 70을 얻을 수 있도록 수정하시오."
      ]
    },
    {
      "cell_type": "code",
      "metadata": {
        "colab_type": "code",
        "id": "5MBLUZ5WXF1q",
        "colab": {
          "base_uri": "https://localhost:8080/",
          "height": 34
        },
        "outputId": "b408eb5c-d57e-47ba-a864-bc74b08c11c3"
      },
      "source": [
        "# [Q2] Code-1\n",
        "a = {'A':90, 'B':80}\n",
        "a.get('C',70)"
      ],
      "execution_count": null,
      "outputs": [
        {
          "output_type": "execute_result",
          "data": {
            "text/plain": [
              "70"
            ]
          },
          "metadata": {
            "tags": []
          },
          "execution_count": 7
        }
      ]
    },
    {
      "cell_type": "markdown",
      "metadata": {
        "id": "0yKFOgA3ht-P",
        "colab_type": "text"
      },
      "source": [
        "### Code 2-1번 풀이\n",
        "1. key로 value를 얻는 get 함수를 이용했다.\n",
        "2. 변수.get(x,디폴트)는 key x가 없을 때 디폴트 값을 출력해준다.\n",
        "3. 위의 함수를 이용해 a.get('C', 70): C에 해당하는 key가 없을 때 70을 출력해주는 코드를 사용했다."
      ]
    },
    {
      "cell_type": "code",
      "metadata": {
        "colab_type": "code",
        "id": "viVk7IDSEQZX",
        "colab": {
          "base_uri": "https://localhost:8080/",
          "height": 34
        },
        "outputId": "5f3075d2-7a05-444d-a885-09f0445e040d"
      },
      "source": [
        "# [Q2] Code-2\n",
        "a = {'A':90, 'B':80}\n",
        "a['C'] = 70\n",
        "print(a)"
      ],
      "execution_count": null,
      "outputs": [
        {
          "output_type": "stream",
          "text": [
            "{'A': 90, 'B': 80, 'C': 70}\n"
          ],
          "name": "stdout"
        }
      ]
    },
    {
      "cell_type": "markdown",
      "metadata": {
        "id": "--i5KTOvXiny",
        "colab_type": "text"
      },
      "source": [
        "### Code 2-2번 풀이\n",
        "a = {'A' : 90, 'B' : 80}이라는 딕셔너리에 (C,70)쌍을 추가하기 위해 a['C'] = 70이라는 기호를 사용했다."
      ]
    },
    {
      "cell_type": "markdown",
      "metadata": {
        "colab_type": "text",
        "id": "UZy8lu_BXGnT"
      },
      "source": [
        "## Q3. 리스트의 더하기와 extend 함수\n",
        "> 다음과 같은 리스트 a가 있다.\n",
        "```\n",
        "a = [1, 2, 3]\n",
        "```\n",
        "> 리스트 a에 [4, 5]를 + 기호를 사용하여 더한 결과는 다음과 같다.\n",
        "```\n",
        ">>> a = [1, 2, 3]\n",
        ">>> a = a + [4,5]\n",
        ">>> a\n",
        "[1, 2, 3, 4, 5]\n",
        "```\n",
        "> 리스트 a에 [4,5]를 extend를 사용하여 더한 결과는 다음과 같다.\n",
        "```\n",
        ">>> a = [1, 2, 3]\n",
        ">>> a.extend([4, 5])\n",
        ">>> a\n",
        "[1, 2, 3, 4, 5]\n",
        "```\n",
        "\n",
        "> ### + 기호를 사용하여 더한 것과 extend한 것의 차이점이 있을까? 있다면 그 차이점을 설명하시오."
      ]
    },
    {
      "cell_type": "code",
      "metadata": {
        "colab_type": "code",
        "id": "H9T_sXHzXGnW",
        "colab": {
          "base_uri": "https://localhost:8080/",
          "height": 70
        },
        "outputId": "9070f172-a56a-4ac5-bb42-d8db2c472108"
      },
      "source": [
        "# [Q3] Explain (코드와 주석으로 설명하시오)\n",
        "a = [1,2,3]\n",
        "print(id(a)) \n",
        "a = a + [4,5]\n",
        "print(id([4,5]))\n",
        "print(id(a)) \n",
        "# + 기호를 사용해 더한 것은 다른 메모리 주소를 가지고 있다.\n",
        "# 즉, a라는 리스트와 [4,5]라는 리스트가 더해져 새로운 메모리에 더한 값이 들어간 것이라고 할 수 있다."
      ],
      "execution_count": null,
      "outputs": [
        {
          "output_type": "stream",
          "text": [
            "140139814455112\n",
            "140139814454664\n",
            "140139814601160\n"
          ],
          "name": "stdout"
        }
      ]
    },
    {
      "cell_type": "code",
      "metadata": {
        "id": "A7Eag2LAYNey",
        "colab_type": "code",
        "colab": {
          "base_uri": "https://localhost:8080/",
          "height": 52
        },
        "outputId": "acdef3c7-7eb8-4ad8-9129-fb36c3fd062b"
      },
      "source": [
        "a = [1,2,3]\n",
        "print(id(a))\n",
        "a.extend([4,5])\n",
        "print(id(a))\n",
        "# 더하기 전과 후의 메모리 주소가 같은 것을 보아 원래 있는 리스트 a에 [4,5]가 더해진 것이라 볼 수 있다."
      ],
      "execution_count": null,
      "outputs": [
        {
          "output_type": "stream",
          "text": [
            "140139814914440\n",
            "140139814914440\n"
          ],
          "name": "stdout"
        }
      ]
    },
    {
      "cell_type": "markdown",
      "metadata": {
        "id": "NJ7h4JkXYfNk",
        "colab_type": "text"
      },
      "source": [
        "### Code 3번 풀이\n",
        "1. \\+ 기호 사용: 다른 메모리를 가진 두 개의 리스트가 합쳐져 새로운 메모리에 할당된다.\n",
        "2. extend 함수 사용: 원래 있던 리스트에 다른 리스트가 더해진 것이므로 동일한 메모리에 들어간다."
      ]
    },
    {
      "cell_type": "markdown",
      "metadata": {
        "colab_type": "text",
        "id": "fqypxxqTXHY7"
      },
      "source": [
        "## Q4. 리스트 총합 구하기\n",
        "> 다음은 A학급 학생의 점수를 나타내는 리스트이다. 다음 리스트에서 50점 이상 점수의 총합을 구하시오.\n",
        "```\n",
        "A = [20, 55, 67, 82, 45, 33, 90, 87, 100, 25]\n",
        "```"
      ]
    },
    {
      "cell_type": "code",
      "metadata": {
        "colab_type": "code",
        "id": "oQ5UnmayXHY-",
        "colab": {
          "base_uri": "https://localhost:8080/",
          "height": 34
        },
        "outputId": "b5b76dae-eda6-4512-e34d-31b9db26f951"
      },
      "source": [
        "# [Q4] Code-1\n",
        "A = [20, 55, 67, 82, 45, 33, 90, 87, 100, 25]\n",
        "number = 0\n",
        "sum = 0\n",
        "result = []\n",
        "for i in A:\n",
        "  number += 1\n",
        "  if i >= 50:\n",
        "    result.append(i)\n",
        "  else: pass\n",
        "\n",
        "for num in result:\n",
        "  sum = sum + num\n",
        "\n",
        "print(sum)\n"
      ],
      "execution_count": null,
      "outputs": [
        {
          "output_type": "stream",
          "text": [
            "481\n"
          ],
          "name": "stdout"
        }
      ]
    },
    {
      "cell_type": "markdown",
      "metadata": {
        "id": "tdkgPwCUaBef",
        "colab_type": "text"
      },
      "source": [
        "### Code 4-1번 풀이\n",
        "1. 50점 이상의 점수를 담을 result라는 변수를 만들어준다.\n",
        "2. A에 있는 점수 중 50점 이상이면 result변수에 넣고 그렇지 않으면 그냥 넘어가는 코드를 for문을 이용해 작성했다.\n",
        "3. for문을 이용해 result 변수에 있는 점수들을 합한 후 print함수를 이용해 출력했다."
      ]
    },
    {
      "cell_type": "code",
      "metadata": {
        "colab_type": "code",
        "id": "pMQ1e6jpFomt",
        "colab": {
          "base_uri": "https://localhost:8080/",
          "height": 34
        },
        "outputId": "5bff44d5-3899-4ffd-a0c9-38ed6e73c82f"
      },
      "source": [
        "# [Q4] Code-2\n",
        "A = [20, 55, 67, 82, 45, 33, 90, 87, 100, 25]\n",
        "result = 0\n",
        "\n",
        "while A:\n",
        "  mark = A.pop()\n",
        "  if mark >= 50:\n",
        "    result += mark\n",
        "  \n",
        "print(result)"
      ],
      "execution_count": null,
      "outputs": [
        {
          "output_type": "stream",
          "text": [
            "481\n"
          ],
          "name": "stdout"
        }
      ]
    },
    {
      "cell_type": "markdown",
      "metadata": {
        "id": "0ZH84YDMasDr",
        "colab_type": "text"
      },
      "source": [
        "### Code 4-2번 풀이\n",
        "1. 맨 마지막 요소를 꺼내 지워주는 pop함수를 이용해 mark에 저장했다.\n",
        "2. 넣은 것 중에 50점 이상이면 result에 넣어 더한 후 그 result값을 출력했다."
      ]
    },
    {
      "cell_type": "markdown",
      "metadata": {
        "colab_type": "text",
        "id": "NKsvciXZXIL-"
      },
      "source": [
        "## Q5. 피보나치 함수\n",
        "> 첫 번째 항의 값이 0이고 두 번째 항의 값이 1일 때, 이후에 이어지는 항은 이전의 두 항을 더한 값으로 이루어지는 수열을 피보나치 수열이라고 한다.\n",
        "```\n",
        "0, 1, 1, 2, 3, 5, 8, 13, 21, ...\n",
        "```\n",
        "> 입력을 정수 n으로 받았을 때, n 이하까지의 피보나치 수열을 출력하는 함수를 작성해 보자.\n"
      ]
    },
    {
      "cell_type": "code",
      "metadata": {
        "colab_type": "code",
        "id": "5MZQYOVjXIL_",
        "colab": {
          "base_uri": "https://localhost:8080/",
          "height": 194
        },
        "outputId": "96aa50ff-a371-4701-fc97-76d2d07b9491"
      },
      "source": [
        "# [Q5] Code-1\n",
        "n = int(input(\"정수의 개수를 입력해주세요. \"))\n",
        "\n",
        "def fibo(n):\n",
        "  if n == 0:\n",
        "    return 0\n",
        "  elif n == 1:\n",
        "    return 1\n",
        "  else:\n",
        "    return fibo(n-2) + fibo(n-1)\n",
        "\n",
        "for i in range(n):\n",
        "  print(fibo(i))\n"
      ],
      "execution_count": null,
      "outputs": [
        {
          "output_type": "stream",
          "text": [
            "정수의 개수를 입력해주세요. 9\n",
            "0\n",
            "1\n",
            "1\n",
            "2\n",
            "3\n",
            "5\n",
            "8\n",
            "13\n",
            "21\n"
          ],
          "name": "stdout"
        }
      ]
    },
    {
      "cell_type": "markdown",
      "metadata": {
        "id": "KA17G8k1bOjs",
        "colab_type": "text"
      },
      "source": [
        "### Code 5-1번 풀이\n",
        "1. 사용자에게 정수를 입력받기 위해 input 함수를 이용했다.\n",
        "2. input은 모두 문자열로 받아들이기 때문에 정수형으로 만들어주는 int 함수를 사용해 숫자형으로 바꿔줬다.\n",
        "3. 피보나치 수열 특성 상 0일 때는 0, 1일 때는 1을 반환하므로 if문을 통해 n이 0,1 일 때 0,1 값을 반환하도록 해줬다.\n",
        "4. n이 0,1이 아닐 때 이전의 두 값을 더하여 반환해주는 코드를 def 예약어를 이용해 함수로 만들어줬다.\n",
        "5. for문을 이용해 입력 받은 정수번째에 올 때 까지 함수를 반복해주고 그 값을 출력해주는 코드를 작성했다."
      ]
    },
    {
      "cell_type": "code",
      "metadata": {
        "colab_type": "code",
        "id": "JH2Rm_TkF_eu",
        "colab": {
          "base_uri": "https://localhost:8080/",
          "height": 212
        },
        "outputId": "6961231c-9fc6-4f32-89d0-88b48064ae41"
      },
      "source": [
        "# [Q5] Code-2\n",
        "n = int(input(\"정수의 개수를 입력해주세요. \"))\n",
        "\n",
        "def fibo(n):\n",
        "  result = fibo(n-2) + fibo(n-1) if n>=2 else n\n",
        "  return result\n",
        "\n",
        "for i in range(n):\n",
        "  print(fibo(i))"
      ],
      "execution_count": null,
      "outputs": [
        {
          "output_type": "stream",
          "text": [
            "정수의 개수를 입력해주세요. 10\n",
            "0\n",
            "1\n",
            "1\n",
            "2\n",
            "3\n",
            "5\n",
            "8\n",
            "13\n",
            "21\n",
            "34\n"
          ],
          "name": "stdout"
        }
      ]
    },
    {
      "cell_type": "markdown",
      "metadata": {
        "id": "WBlGYFJndPnz",
        "colab_type": "text"
      },
      "source": [
        "### Code 5-2번 풀이\n",
        "1. 사용자에게 정수를 입력받기 위해 input 함수를 이용했다. \n",
        "2. input은 모두 문자열로 받아들이기 때문에 정수형으로 만들어주는 int 함수를 사용해 숫자형으로 바꿔줬다.\n",
        "3. if문을 이용해 n이 2 이상일 때는 이전 결과 2개를 합하고 아닐 때는 그 값을 돌려줘서 result에 담고 result를 반환하는 fibo함수를 작성했다.\n",
        "4. for문을 이용해 입력받은 정수 n번째까지 함수를 실행하고 출력하는 코드를 작성했다."
      ]
    },
    {
      "cell_type": "markdown",
      "metadata": {
        "colab_type": "text",
        "id": "-3KHtOOoXJBV"
      },
      "source": [
        "## Q6. 숫자의 총합 구하기\n",
        "> 사용자로부터 다음과 같은 숫자를 입력받아 입력받은 숫자의 총합을 구하는 프로그램을 작성하시오. (단 숫자는 콤마로 구분하여 입력한다.)\n",
        "\n",
        "```\n",
        "65,45,2,3,45,8\n",
        "```\n"
      ]
    },
    {
      "cell_type": "code",
      "metadata": {
        "colab_type": "code",
        "id": "AjYR0lUaXJBa",
        "colab": {
          "base_uri": "https://localhost:8080/",
          "height": 52
        },
        "outputId": "16a58e22-6fdb-43da-f8c4-3c5944c1dd17"
      },
      "source": [
        "# [Q6] Code-1\n",
        "number = input(\"숫자를 입력하세요. \")\n",
        "numbers = number.split(\",\")\n",
        "\n",
        "sum = 0\n",
        "for i in numbers:\n",
        "  sum = sum + int(i)\n",
        "\n",
        "print(sum)\n"
      ],
      "execution_count": null,
      "outputs": [
        {
          "output_type": "stream",
          "text": [
            "숫자를 입력하세요. 65,45,2,3,45,8\n",
            "168\n"
          ],
          "name": "stdout"
        }
      ]
    },
    {
      "cell_type": "markdown",
      "metadata": {
        "id": "kHE9XWU-d3w0",
        "colab_type": "text"
      },
      "source": [
        "### Code 6-1번 풀이\n",
        "1. 숫자를 사용자에게 입력받기 위해 input 함수를 사용했고 입력받은 수를 변수 number에 담았다.\n",
        "2. 입력받은 숫자들 사이에 ','를 넣기 위해 split함수를 이용했고 만들어진 것을 numbers라는 변수에 넣었다.\n",
        "3. for문을 이용해 안에 있는 것들을 다 합해 sum에 넣었고 sum을 출력하는 코드를 작성했다."
      ]
    },
    {
      "cell_type": "code",
      "metadata": {
        "colab_type": "code",
        "id": "JpkVe0zxGTK1",
        "colab": {
          "base_uri": "https://localhost:8080/",
          "height": 52
        },
        "outputId": "2e0b3eec-cdeb-4a2f-f628-7231075c1b3a"
      },
      "source": [
        "# [Q6] Code-2\n",
        "number = input(\"콤마를 이용해 숫자를 입력하세요. \")\n",
        "numbers = number.split(\",\")\n",
        "\n",
        "def total(sum, numbers):\n",
        "  sum = 0\n",
        "  for i in numbers:\n",
        "    sum = sum + int(i)\n",
        "  return sum\n",
        "\n",
        "print(total(sum,numbers))"
      ],
      "execution_count": null,
      "outputs": [
        {
          "output_type": "stream",
          "text": [
            "콤마를 이용해 숫자를 입력하세요. 65,45,2,3,45,8\n",
            "168\n"
          ],
          "name": "stdout"
        }
      ]
    },
    {
      "cell_type": "markdown",
      "metadata": {
        "id": "TDVBSHxWhptH",
        "colab_type": "text"
      },
      "source": [
        "### Code 6-2번 풀이\n",
        "1. input을 통해 숫자를 입력받고 split함수를 이용해 중간에 ','를 넣은 뒤 numbers에 저장한다.\n",
        "2. def를 사용해 total이라는 함수를 만들어주고 받은 수들을 정수로 만든 뒤 더해준 후 더한 값을 반환해주는 내용을 넣는다.\n",
        "3. print함수를 이용해 출력한다."
      ]
    },
    {
      "cell_type": "markdown",
      "metadata": {
        "colab_type": "text",
        "id": "CiMJjZQ_GdyV"
      },
      "source": [
        "## Q7. 한 줄 구구단\n",
        "> 사용자로부터 2~9의 숫자 중 하나를 입력받아 해당 숫자의 구구단을 한 줄로 출력하는 프로그램을 작성하시오.\n",
        "\n",
        "> 실행 예)\n",
        "```\n",
        "구구단을 출력할 숫자를 입력하세요(2~9): 2\n",
        "2 4 6 8 10 12 14 16 18\n",
        "```\n"
      ]
    },
    {
      "cell_type": "code",
      "metadata": {
        "colab_type": "code",
        "id": "_8TQZNIwGdyo",
        "colab": {
          "base_uri": "https://localhost:8080/",
          "height": 52
        },
        "outputId": "78230d9a-1f57-495f-92fd-0616b4f23044"
      },
      "source": [
        "# [Q7] Code-1\n",
        "number = input(\"구구단을 출력할 숫자를 입력하세요(2~9): \")\n",
        "numbers = int(number)\n",
        "\n",
        "result = []\n",
        "for i in range(1,10):\n",
        "  result.append(i*numbers)\n",
        "\n",
        "print(result, end = ' ')\n"
      ],
      "execution_count": null,
      "outputs": [
        {
          "output_type": "stream",
          "text": [
            "구구단을 출력할 숫자를 입력하세요(2~9): 2\n",
            "[2, 4, 6, 8, 10, 12, 14, 16, 18] "
          ],
          "name": "stdout"
        }
      ]
    },
    {
      "cell_type": "markdown",
      "metadata": {
        "id": "Hc6_KLIQiH9Z",
        "colab_type": "text"
      },
      "source": [
        "### Code 7-1번 풀이\n",
        "- 리스트로\n",
        "1. 계산할 단을 입력받고 int함수를 이용해 정수로 만들어준 뒤 numbers에 넣는다.\n",
        "2. 계산한 결과를 넣을 result변수를 만들어주고 for문과 range함수를 이용해 1부터 9까지 곱한 뒤 출력해준다.\n",
        "3. end = ' '을 이용해 줄을 구분하지 않고 한 칸 공백을 둔 뒤 적을 수 있게 했다."
      ]
    },
    {
      "cell_type": "code",
      "metadata": {
        "colab_type": "code",
        "id": "HRX-wvenGdyx",
        "colab": {
          "base_uri": "https://localhost:8080/",
          "height": 52
        },
        "outputId": "7e6513dd-fa82-41a2-c490-9842df514dc6"
      },
      "source": [
        "# [Q7] Code-2\n",
        "number = int(input(\"구구단을 출력할 숫자를 입력하세요(2~9): \"))\n",
        "\n",
        "for i in range(1,10):\n",
        "  print(i*number, end=' ')\n"
      ],
      "execution_count": null,
      "outputs": [
        {
          "output_type": "stream",
          "text": [
            "구구단을 출력할 숫자를 입력하세요(2~9): 2\n",
            "2 4 6 8 10 12 14 16 18 "
          ],
          "name": "stdout"
        }
      ]
    },
    {
      "cell_type": "markdown",
      "metadata": {
        "id": "AKTwRn-qiih2",
        "colab_type": "text"
      },
      "source": [
        "### Code 7-2번 풀이\n",
        "1. input함수를 이용해 계산할 단을 입력받고 정수로 만든 뒤 numbers에 넣는다.\n",
        "2. 리스트로 만들지 않고 바로 출력하기 위해 for문과 range함수를 바로 사용했다.\n",
        "3. 단과 1~9까지 곱해준 결과를 출력하고 end를 이용해 한 칸 띄우고 바로 쓸 수 있도록 코드를 작성했다."
      ]
    },
    {
      "cell_type": "code",
      "metadata": {
        "id": "WuNoku3vSroN",
        "colab_type": "code",
        "colab": {
          "base_uri": "https://localhost:8080/",
          "height": 52
        },
        "outputId": "4b51a689-b191-49aa-c282-cc56b859d625"
      },
      "source": [
        "number = int(input(\"구구단을 출력할 숫자를 입력하세요(2~9): \"))\n",
        "\n",
        "i = 1\n",
        "while i < 10:\n",
        "  n = i*number\n",
        "  print(n, end = ' ')\n",
        "  i = i + 1"
      ],
      "execution_count": null,
      "outputs": [
        {
          "output_type": "stream",
          "text": [
            "구구단을 출력할 숫자를 입력하세요(2~9): 2\n",
            "2 4 6 8 10 12 14 16 18 "
          ],
          "name": "stdout"
        }
      ]
    },
    {
      "cell_type": "markdown",
      "metadata": {
        "id": "PLBmrbVUjODo",
        "colab_type": "text"
      },
      "source": [
        "### Code 7-3번 풀이\n",
        "1. input함수를 이용해 계산할 단을 입력받고 정수로 만든 뒤 number에 넣는다.\n",
        "2. while문을 사용해 i가 10 미만일 때까지 i와 계산할 단을 곱한 후 출력해주는 코드를 작성했다."
      ]
    },
    {
      "cell_type": "markdown",
      "metadata": {
        "colab_type": "text",
        "id": "YrS3b88QbmKo"
      },
      "source": [
        "## Q8. 역순 저장\n",
        "> 다음과 같은 내용의 파일 abc.txt가 있다.\n",
        "```\n",
        "AAA\n",
        "BBB\n",
        "CCC\n",
        "DDD\n",
        "EEE\n",
        "```\n",
        "> 이 파일의 내용을 다음과 같이 역순으로 바꾸어 저장하시오.\n",
        "```\n",
        "EEE\n",
        "DDD\n",
        "CCC\n",
        "BBB\n",
        "AAA\n",
        "```"
      ]
    },
    {
      "cell_type": "code",
      "metadata": {
        "colab_type": "code",
        "id": "Ll_2InMWbmKq",
        "colab": {}
      },
      "source": [
        "# [Q8] Code-1\n",
        "f = open('abc.txt', 'r')\n",
        "lines = f.readlines()\n",
        "f.close()\n",
        "\n",
        "lines.reverse()\n",
        "\n",
        "f = open('abc.txt', 'w')\n",
        "for i in lines:\n",
        "  f.write(i)\n",
        "f.close()\n"
      ],
      "execution_count": null,
      "outputs": []
    },
    {
      "cell_type": "code",
      "metadata": {
        "id": "xC29DLmEkSfP",
        "colab_type": "code",
        "colab": {
          "base_uri": "https://localhost:8080/",
          "height": 34
        },
        "outputId": "e3485e57-7a04-4436-b4c7-ca6d5ef5711a"
      },
      "source": [
        "lines"
      ],
      "execution_count": null,
      "outputs": [
        {
          "output_type": "execute_result",
          "data": {
            "text/plain": [
              "['EEE\\n', 'DDD\\n', 'CCC\\n', 'BBB\\n', 'AAA\\n']"
            ]
          },
          "metadata": {
            "tags": []
          },
          "execution_count": 88
        }
      ]
    },
    {
      "cell_type": "markdown",
      "metadata": {
        "id": "Q9BoRynrkpWB",
        "colab_type": "text"
      },
      "source": [
        "### Code 8-1번 풀이\n",
        "1. 파일을 읽기 모드로 열고 readlines함수를 이용해 모든 줄을 읽은 후 파일을 닫는다.\n",
        "2. reverse함수를 이용해 뒤집어 준다.\n",
        "3. 다시 파일을 쓰기모드로 열고 뒤집어 준 것을 작성한다.\n",
        "4. 파일을 닫아준다."
      ]
    },
    {
      "cell_type": "code",
      "metadata": {
        "colab_type": "code",
        "id": "N3uG53JsHIYX",
        "colab": {
          "base_uri": "https://localhost:8080/",
          "height": 105
        },
        "outputId": "94b33a6b-4958-46a4-a20e-63bfde8e6f4a"
      },
      "source": [
        "# [Q8] Code-2\n",
        "f = open('abc.txt')\n",
        "lines = f.readlines()\n",
        "f.close()\n",
        "\n",
        "for lines in reversed(open(\"abc.txt\").readlines()):\n",
        "    print(lines.rstrip())"
      ],
      "execution_count": null,
      "outputs": [
        {
          "output_type": "stream",
          "text": [
            "EEE\n",
            "DDD\n",
            "CCC\n",
            "BBB\n",
            "AAA\n"
          ],
          "name": "stdout"
        }
      ]
    },
    {
      "cell_type": "markdown",
      "metadata": {
        "id": "pVH-2R46ldyl",
        "colab_type": "text"
      },
      "source": [
        "### Code 8-2번 풀이\n",
        "1. 파일을 읽기 모드로 연 후 readlines를 통해 모든 줄을 읽고 lines에 닫는다.\n",
        "2. for문을 이용해 읽은 것을 뒤집어 준 후 rstrip함수를 이용해 오른쪽 공백을 지워준다.\n",
        "3. 마지막으로 출력해준다."
      ]
    },
    {
      "cell_type": "markdown",
      "metadata": {
        "colab_type": "text",
        "id": "OcSDHHYkK6lZ"
      },
      "source": [
        "## Q9. 평균값 구하기\n",
        "> 다음과 같이 총 10줄로 이루어진 sample.txt 파일이 있다. sample.txt 파일의 숫자 값을 모두 읽어 총합과 평균 값을 구한 후 평균 값을 result.txt 파일에 쓰는 프로그램을 작성하시오.\n",
        "```\n",
        "70\n",
        "60\n",
        "55\n",
        "75\n",
        "95\n",
        "90\n",
        "80\n",
        "80\n",
        "85\n",
        "100\n",
        "```\n"
      ]
    },
    {
      "cell_type": "code",
      "metadata": {
        "colab_type": "code",
        "id": "GmaaVGqrK6le",
        "colab": {
          "base_uri": "https://localhost:8080/",
          "height": 34
        },
        "outputId": "ea850bfe-8737-49e7-b9a6-aaa0e786dd46"
      },
      "source": [
        "# [Q9] Code-1\n",
        "f = open('sample.txt', 'r')\n",
        "line = f.readlines()\n",
        "f.close()\n",
        "\n",
        "sum = 0\n",
        "for i in line:\n",
        "  sum = sum + float(i)\n",
        "average = sum/len(line)\n",
        "\n",
        "f = open('result.txt', 'w')\n",
        "f.write(str(average))\n",
        "f.close()\n",
        "\n",
        "for lines in (open(\"result.txt\").readlines()):\n",
        "    print(line)"
      ],
      "execution_count": null,
      "outputs": [
        {
          "output_type": "stream",
          "text": [
            "['79.0']\n"
          ],
          "name": "stdout"
        }
      ]
    },
    {
      "cell_type": "markdown",
      "metadata": {
        "id": "Bb_gj9L0mJH4",
        "colab_type": "text"
      },
      "source": [
        "### Code 9-1번 풀이\n",
        "1. 파일을 읽기 모드로 연 후 readlines 함수를 이용해 모든 줄을 다 읽고 line에 넣은 후 파일을 닫는다.\n",
        "2. for문을 이용해 넣은 값들을 다 더해주고 sum에 넣는다.\n",
        "3. sum의 값에 line의 개수만큼 나눠준 후 average라는 변수 안에 값을 저장시킨다.\n",
        "4. 파일을 쓰기 모드로 연 후 average 값을 문자열 객체로 돌려주는 함수인 str을 이용해 넣어준 다음 파일을 닫는다."
      ]
    },
    {
      "cell_type": "code",
      "metadata": {
        "colab_type": "code",
        "id": "kgMy9LVYHfRF",
        "colab": {}
      },
      "source": [
        "# [Q9] Code-2\n",
        "f = open('sample.txt', 'r')\n",
        "line = f.readlines()\n",
        "f.close()\n",
        "\n",
        "line = list(map(int, line))\n",
        "sum = 0\n",
        "for i in line:\n",
        "  sum = sum + float(i)\n",
        "  average = sum / len(line)\n",
        "\n",
        "f = open('sample.txt','w')\n",
        "f.write(str(average))\n",
        "f.close()\n",
        "\n",
        "for lines in (open(\"result.txt\").readlines()):\n",
        "    print(line)"
      ],
      "execution_count": null,
      "outputs": []
    },
    {
      "cell_type": "markdown",
      "metadata": {
        "colab_type": "text",
        "id": "anwB_DjuK60j"
      },
      "source": [
        "## Q10. 사칙연산 계산기\n",
        "> 다음과 같이 동작하는 클래스 Calculator를 작성하시오.\n",
        "```\n",
        ">>> cal1 = Calculator([1,2,3,4,5])\n",
        ">>> cal1.sum() # 합계\n",
        "15\n",
        ">>> cal1.avg() # 평균\n",
        "3.0\n",
        ">>> cal2 = Calculator([6,7,8,9,10])\n",
        ">>> cal2.sum() # 합계\n",
        "40\n",
        ">>> cal2.avg() # 평균\n",
        "8.0\n",
        "```\n"
      ]
    },
    {
      "cell_type": "code",
      "metadata": {
        "colab_type": "code",
        "id": "QJTNoSqtMrIM",
        "colab": {
          "base_uri": "https://localhost:8080/",
          "height": 87
        },
        "outputId": "6058b637-739b-4d5e-fded-0ce9bb5aec27"
      },
      "source": [
        "# [Q10] Code-1\n",
        "class Calculator:\n",
        "  def __init__(self, value):\n",
        "    self.value = value\n",
        "  def add(self):\n",
        "    result = 0\n",
        "    for i in self.value:\n",
        "      result = result + i\n",
        "    return result\n",
        "  def avg(self):\n",
        "    sum = self.add()\n",
        "    return sum/len(self.value)\n",
        "\n",
        "cal1 = Calculator([1,2,3,4,5])\n",
        "print(cal1.add())\n",
        "print(cal1.avg())\n",
        "\n",
        "cal2 = Calculator([6,7,8,9,10])\n",
        "print(cal2.add())\n",
        "print(cal2.avg())"
      ],
      "execution_count": null,
      "outputs": [
        {
          "output_type": "stream",
          "text": [
            "15\n",
            "3.0\n",
            "40\n",
            "8.0\n"
          ],
          "name": "stdout"
        }
      ]
    },
    {
      "cell_type": "markdown",
      "metadata": {
        "id": "d7wswC9pjyyh",
        "colab_type": "text"
      },
      "source": [
        "### Code 10-1번 풀이\n",
        "1. Calculator라는 클래스를 만들어서 안에 더하기, 평균 구하는 것에 관한 ㅎ마수를 넣어준다.\n",
        "2. add함수에서는 result의 초기값을 0으로 잡고 들어오는 수마다 더해주는 코드를 작성했다.\n",
        "3. 평균 함수에서는 add함수에서 더한 최종 값을 들어온 개수만큼 나눠 평균을 구해 반환해주는 코드를 작성했다.\n"
      ]
    },
    {
      "cell_type": "code",
      "metadata": {
        "colab_type": "code",
        "id": "91hia3WgH2gW",
        "colab": {
          "base_uri": "https://localhost:8080/",
          "height": 87
        },
        "outputId": "f6e49c87-8a58-4848-c23a-bade8fa77fce"
      },
      "source": [
        "# [Q10] Code-2\n",
        "class Calculator:\n",
        "  def __init__(self, value):\n",
        "    self.value = value\n",
        "  def add(self):\n",
        "    result = 0\n",
        "    for i in self.value:\n",
        "      result = result + i\n",
        "    return result\n",
        "\n",
        "class MoreCalculator(Calculator):\n",
        "  def avg(self):\n",
        "    sum = self.add()\n",
        "    return sum/len(self.value)\n",
        "    \n",
        "cal1 = MoreCalculator([1,2,3,4,5])\n",
        "print(cal1.add())\n",
        "print(cal1.avg())\n",
        "\n",
        "cal2 = MoreCalculator([6,7,8,9,10])\n",
        "print(cal2.add())\n",
        "print(cal2.avg())"
      ],
      "execution_count": null,
      "outputs": [
        {
          "output_type": "stream",
          "text": [
            "15\n",
            "3.0\n",
            "40\n",
            "8.0\n"
          ],
          "name": "stdout"
        }
      ]
    },
    {
      "cell_type": "markdown",
      "metadata": {
        "id": "S9J10zR3kOp2",
        "colab_type": "text"
      },
      "source": [
        "### Code 10-2번 풀이\n",
        "1. add함수를 담은 Calculaotr 클래스를 만들어주었다.\n",
        "2. Calculator 클래스를 상속한 MoreCalculator 클래스를 만들었고 그 안에 평균을 반환해주는 avg함수를 추가시켰다."
      ]
    },
    {
      "cell_type": "markdown",
      "metadata": {
        "colab_type": "text",
        "id": "8xQf6xJ4K7M_"
      },
      "source": [
        "## Q11. 모듈 사용 방법\n",
        "> ./doit 디렉터리에 mymod.py 파이썬 모듈이 있다고 가정해 보자. 명령 프롬프트 창에서 파이썬 셸을 열어 이 모듈을 import해서 사용할 수 있는 방법을 모두 기술하시오. (즉 다음과 같이 import mymod를 수행할 때 오류가 없어야 한다.)\n",
        "```\n",
        ">>> import mymod\n",
        ">>>\n",
        "```"
      ]
    },
    {
      "cell_type": "code",
      "metadata": {
        "colab_type": "code",
        "id": "4zv7LXPjJiCH",
        "colab": {}
      },
      "source": [
        "!mkdir doit\n",
        "# 실행 후 새로 고침!\n",
        "# mymod.py 를 업로드한다."
      ],
      "execution_count": null,
      "outputs": []
    },
    {
      "cell_type": "code",
      "metadata": {
        "colab_type": "code",
        "id": "JA_3n4g8JiB7",
        "colab": {}
      },
      "source": [
        "!mv mymod.py ./doit\n",
        "# 실행 후 새로 고침!"
      ],
      "execution_count": null,
      "outputs": []
    },
    {
      "cell_type": "code",
      "metadata": {
        "colab_type": "code",
        "id": "UCO7aRh5Msx6",
        "colab": {}
      },
      "source": [
        "# [Q11] Code-1\n",
        "import sys\n",
        "sys.path.append(\"c:/doit\")\n",
        "import mymod"
      ],
      "execution_count": null,
      "outputs": []
    },
    {
      "cell_type": "markdown",
      "metadata": {
        "id": "Df_JUY-tkiXR",
        "colab_type": "text"
      },
      "source": [
        "### Code 11-1번 풀이\n",
        "1. 모듈을 불러오는 방법 중 하나인 sys.path.append 함수를 사용했다. \n",
        "2. 맨 처음 sys모듈을 불러오기 위해 import를 이용했다.\n",
        "3. sys.path.append를 이용해서 c:/doit 디렉터리를 추가했다.\n",
        "4. 다시 import를 이용해서 mymod.py 모듈을 불러왔다."
      ]
    },
    {
      "cell_type": "code",
      "metadata": {
        "id": "XGZzQn5vlizI",
        "colab_type": "code",
        "colab": {}
      },
      "source": [
        "# [Q11] Code-3\n",
        "C:\\Users\\home>cd c:\\doit\n",
        "C:\\doit>python\n",
        "import mymod"
      ],
      "execution_count": null,
      "outputs": []
    },
    {
      "cell_type": "markdown",
      "metadata": {
        "id": "FSujGRjOlmgr",
        "colab_type": "text"
      },
      "source": [
        "### Code 11-3번 풀이\n",
        "1. 현재 디렉터리를 이용해 코드를 작성한 것이다.\n",
        "2. sys.path에 현재 디렉터리인 .이 항상 포함되어 있기 때문에 사용가능하다."
      ]
    },
    {
      "cell_type": "markdown",
      "metadata": {
        "colab_type": "text",
        "id": "Q6QYCZ9HM3DW"
      },
      "source": [
        "## Q12. 오류와 예외 처리\n",
        "> 다음 코드의 실행 결과를 예측하고 그 이유에 대해 설명하시오.\n",
        "\n",
        "```\n",
        "result = 0\n",
        "\n",
        "try:\n",
        "    [1, 2, 3][3]\n",
        "    \"a\"+1\n",
        "    4 / 0\n",
        "except TypeError:\n",
        "    result += 1\n",
        "except ZeroDivisionError:\n",
        "    result += 2\n",
        "except IndexError:\n",
        "    result += 3\n",
        "finally:\n",
        "    result += 4\n",
        "\n",
        "print(result)\n",
        "```\n"
      ]
    },
    {
      "cell_type": "code",
      "metadata": {
        "id": "hDf0Js4KLOrl",
        "colab_type": "code",
        "colab": {
          "base_uri": "https://localhost:8080/",
          "height": 34
        },
        "outputId": "2100df7e-78cf-4fe7-b474-1e4d78f38714"
      },
      "source": [
        "# [Q12] Explain (코드와 주석으로 설명하시오)\n",
        "result = 0\n",
        " \n",
        "try:\n",
        "    [1, 2, 3][3]\n",
        "    \"a\"+1\n",
        "    4 / 0\n",
        "except TypeError:\n",
        "    result += 1\n",
        "except ZeroDivisionError:\n",
        "    result += 2\n",
        "except IndexError:\n",
        "    result += 3\n",
        "finally:\n",
        "    result += 4\n",
        " \n",
        "print(result)\n"
      ],
      "execution_count": null,
      "outputs": [
        {
          "output_type": "stream",
          "text": [
            "7\n"
          ],
          "name": "stdout"
        }
      ]
    },
    {
      "cell_type": "markdown",
      "metadata": {
        "id": "XK8gDYB5Cz6S",
        "colab_type": "text"
      },
      "source": [
        "### Code 12번 풀이\n",
        "- 7이 나온다.\n",
        "1. result를 0으로 초기화 시킨다.\n",
        "2. [1,2,3][3]을 실행하면 IndexError가 발생하므로 except IndexError로 이동한다.\n",
        "3. result 값에 3을 더하란 코드이므로 result에 3이 들어간다.\n",
        "4. 마지막으로 finally로 이동해 result에 4를 더하면 result의 최종값은 7이 된다.\n",
        "5. result를 출력하면 7이 출력된다."
      ]
    },
    {
      "cell_type": "markdown",
      "metadata": {
        "colab_type": "text",
        "id": "x2IYgozSM3gd"
      },
      "source": [
        "## Q13. DashInsert 함수\n",
        "> DashInsert 함수는 숫자로 구성된 문자열을 입력받은 뒤 문자열 안에서 홀수가 연속되면 두 수 사이에 - 를 추가하고, 짝수가 연속되면 * 를 추가하는 기능을 갖고 있다. DashInsert 함수를 완성하시오.\n",
        "```\n",
        "입력 예시: 4546793\n",
        "출력 예시: 454*67-9-3\n",
        "```\n"
      ]
    },
    {
      "cell_type": "code",
      "metadata": {
        "colab_type": "code",
        "id": "FiKNOu9HM3DX",
        "colab": {
          "base_uri": "https://localhost:8080/",
          "height": 34
        },
        "outputId": "400d6e2e-f862-44db-8161-747babf7ff29"
      },
      "source": [
        "# [Q13] Code-1\n",
        "data = \"4546793\"\n",
        "numbers = list(map(int,data))\n",
        "result = []\n",
        "\n",
        "for i, num in enumerate(numbers):\n",
        "  result.append(str(num))\n",
        "  if i < len(numbers)-1: # 다음 수가 있다면\n",
        "    is_odd = num% 2 == 1 # num이 홀수\n",
        "    is_next_odd = numbers[i+1] % 2 == 1 # num 다음 수도 홀수\n",
        "    if is_odd and is_next_odd: # 연속으로 홀수면 '-' 넣기\n",
        "      result.append(\"-\")\n",
        "    elif not is_odd and not is_next_odd: # 연속으로 짝수면 '*' 넣기\n",
        "      result.append(\"*\")\n",
        "    \n",
        "print(\"\".join(result)) # result를 출력할 때 띄어쓰지 않도록 출력함"
      ],
      "execution_count": null,
      "outputs": [
        {
          "output_type": "stream",
          "text": [
            "454*67-9-3\n"
          ],
          "name": "stdout"
        }
      ]
    },
    {
      "cell_type": "code",
      "metadata": {
        "colab_type": "code",
        "id": "d_hmy1RZLqBg",
        "colab": {}
      },
      "source": [
        "# [Q13] Code-2\n",
        "number = input(\"숫자를 입력해주세요: \")\n",
        "\n",
        "result = number[0]\n",
        "for a,b in zip(number[0:], number[1:]): \n",
        "    if int(odd) == 0 and int(even)%2 == 0:    # 연속으로 짝수 나올 때\n",
        "            result += '*' + even\n",
        "    elif int(odd)%2 == 1 and int(even)%2 == 1:  # 연속으로 홀수 나올 때\n",
        "        result += '-' + even\n",
        "    else:\n",
        "        result += even                        #홀수짝수, 짝수홀수\n",
        "\n",
        "print(result)"
      ],
      "execution_count": null,
      "outputs": []
    },
    {
      "cell_type": "markdown",
      "metadata": {
        "colab_type": "text",
        "id": "HDbz71sNL2Qt"
      },
      "source": [
        "## Q14. 문자열 압축하기\n",
        "> 문자열을 입력받아 같은 문자가 연속적으로 반복되는 경우에 그 반복 횟수를 표시해 문자열을 압축하여 표시하시오.\n",
        "```\n",
        "입력 예시: aaabbcccccca\n",
        "출력 예시: a3b2c6a1\n",
        "```\n",
        "\n"
      ]
    },
    {
      "cell_type": "code",
      "metadata": {
        "colab_type": "code",
        "id": "Hs88sVjjL2Qw",
        "colab": {
          "base_uri": "https://localhost:8080/",
          "height": 34
        },
        "outputId": "e9bff61a-b3a3-4d8e-cb2b-a536756c5021"
      },
      "source": [
        "# [Q14] Code-1\n",
        "count = 0\n",
        "result = \"aaabbcccccca\"\n",
        "rep = result[0]\n",
        "\n",
        "for i in result:\n",
        "  if i == rep[-1]:\n",
        "    count = count + 1\n",
        "  else:\n",
        "    rep += str(count) + i\n",
        "    count = 1\n",
        "rep += str(count)\n",
        "\n",
        "rep"
      ],
      "execution_count": null,
      "outputs": [
        {
          "output_type": "execute_result",
          "data": {
            "text/plain": [
              "'a3b2c6a1'"
            ]
          },
          "metadata": {
            "tags": []
          },
          "execution_count": 16
        }
      ]
    },
    {
      "cell_type": "markdown",
      "metadata": {
        "id": "OGM-P7WbnEGd",
        "colab_type": "text"
      },
      "source": [
        "### Code 14-1번 풀이\n",
        "1. 숫자를 셀 변수를 count, 나타내고자 하는 것을 result, 비교할 수 있는 형태로 넣은 것을 rep이라는 변수에 넣었다.\n",
        "2. 맨마지막 숫자와 비교해서 같으면 count에 1을 증가시키고 아니면 1로 초기화하는 코드를 써 맨마지막에 출력하는 코드를 작성했다."
      ]
    },
    {
      "cell_type": "code",
      "metadata": {
        "colab_type": "code",
        "id": "XF4F0DW0L2Q1",
        "colab": {
          "base_uri": "https://localhost:8080/",
          "height": 34
        },
        "outputId": "a862a189-8339-46e8-97c2-d81f8965f6a2"
      },
      "source": [
        "# [Q14] Code-2\n",
        "def compress(s):\n",
        "  c = \"\"\n",
        "  count = 0\n",
        "  result = \"\"\n",
        "  for i in s:\n",
        "    if i!=c:\n",
        "      c = i\n",
        "      if count: result += str(count)\n",
        "      result += i\n",
        "      count = 1\n",
        "    else:\n",
        "      count += 1\n",
        "  if count: result += str(count)\n",
        "  return result\n",
        "\n",
        "compress(\"aaabbcccccca\")"
      ],
      "execution_count": null,
      "outputs": [
        {
          "output_type": "execute_result",
          "data": {
            "text/plain": [
              "'a3b2c6a1'"
            ]
          },
          "metadata": {
            "tags": []
          },
          "execution_count": 19
        }
      ]
    },
    {
      "cell_type": "markdown",
      "metadata": {
        "id": "DiMqx5S7ngL4",
        "colab_type": "text"
      },
      "source": [
        "### Code 14-2번 풀이\n",
        "1. for문과 if문을 이용해 이전 수와 같으면 cout를 증가시키고 아니면 1로 초기화하는 compress함수를 만들었다.\n",
        "2. compress 함수를 이용해 표현하고자 하는 문자열을 압축시켜 출력했다."
      ]
    },
    {
      "cell_type": "markdown",
      "metadata": {
        "colab_type": "text",
        "id": "tCF274jtL3Vk"
      },
      "source": [
        "## Q15. Duplicate Numbers\n",
        "> 0 ~ 9의 문자로 된 숫자를 입력받았을 때, 이 입력값이 0 ~ 9의 모든 숫자를 각각 한 번씩만 사용한 것인지 확인하는 함수를 작성하시오.\n",
        "```\n",
        "입력 예시: 0123456789 01234 01234567890 6789012345 012322456789\n",
        "출력 예시: true false false true false\n",
        "```\n"
      ]
    },
    {
      "cell_type": "code",
      "metadata": {
        "colab_type": "code",
        "id": "3uQFw6jGL3Vm",
        "colab": {
          "base_uri": "https://localhost:8080/",
          "height": 105
        },
        "outputId": "4dc48a88-fb77-4097-e7ed-0bbe23de763c"
      },
      "source": [
        "# [Q15] Code-1\n",
        "def all(s):\n",
        "  result = []\n",
        "  for i in s:\n",
        "    if i not in result:\n",
        "      result.append(i)\n",
        "    else:\n",
        "      return False\n",
        "  return len(result) == 10\n",
        "\n",
        "print(all(\"0123456789\"))\n",
        "print(all(\"01234\"))\n",
        "print(all(\"01234567890\"))\n",
        "print(all(\"6789012345\"))\n",
        "print(all(\"012322456789\"))"
      ],
      "execution_count": null,
      "outputs": [
        {
          "output_type": "stream",
          "text": [
            "True\n",
            "False\n",
            "False\n",
            "True\n",
            "False\n"
          ],
          "name": "stdout"
        }
      ]
    },
    {
      "cell_type": "markdown",
      "metadata": {
        "id": "cUoGe45sl9r8",
        "colab_type": "text"
      },
      "source": [
        "### Code 15-1번 풀이\n",
        "1. 입력받은 것 중 하나 이상으로 포함되거나 포함되어있지 않은 것이 있으면 False를 출력하고 조건에 맞는 것은 result에 넣도록 하는 all함수를 만들었다.\n",
        "2. 확인해보고자 하는 것을 print와 all함수를 이용해 출력한 것이다."
      ]
    },
    {
      "cell_type": "code",
      "metadata": {
        "colab_type": "code",
        "id": "Bdt_UGgZL3Vr",
        "colab": {
          "base_uri": "https://localhost:8080/",
          "height": 194
        },
        "outputId": "3bbf07f2-a2bd-4038-976f-c3122c8b2559"
      },
      "source": [
        "# [Q15] Code-2\n",
        "def all(s):\n",
        "  for i in range(10):\n",
        "    if s.count(str(i)) != 1:\n",
        "      print(\"False\")\n",
        "      return\n",
        "      \n",
        "  print(\"True\")\n",
        "\n",
        "print(all(\"0123456789\"))\n",
        "print(all(\"01234\"))\n",
        "print(all(\"01234567890\"))\n",
        "print(all(\"6789012345\"))\n",
        "print(all(\"012322456789\"))\n"
      ],
      "execution_count": null,
      "outputs": [
        {
          "output_type": "stream",
          "text": [
            "True\n",
            "None\n",
            "False\n",
            "None\n",
            "False\n",
            "None\n",
            "True\n",
            "None\n",
            "False\n",
            "None\n"
          ],
          "name": "stdout"
        }
      ]
    },
    {
      "cell_type": "markdown",
      "metadata": {
        "id": "Eo0Ju2dBmV6_",
        "colab_type": "text"
      },
      "source": [
        "### Code 15-2번 풀이\n",
        "1. 10개 안에서 숫자가 한 번 나온 것이 아니면 False를 출력한 후 반환해주고 아닌 것은 True를 출력해주는 all함수를 만들었다.\n",
        "2. 출력하고자 하는 것을 print와 all함수에 넣어 출력했다."
      ]
    },
    {
      "cell_type": "markdown",
      "metadata": {
        "colab_type": "text",
        "id": "QdPWKi1gL4UE"
      },
      "source": [
        "## Q16. 모스 부호 해독\n",
        "> 문자열 형식으로 입력받은 모스 부호(dot:. dash:-)를 해독하여 영어 문장으로 출력하는 프로그램을 작성하시오.\n",
        "\n",
        "- 글자와 글자 사이는 공백 1개, 단어와 단어 사이는 공백 2개로 구분한다.\n",
        "- 예를 들어 다음 모스 부호는 \"HE SLEEPS EARLY\"로 해석해야 한다.\n",
        "```\n",
        ".... .  ... .-.. . . .--. ...  . .- .-. .-.. -.--\n",
        "```\n",
        "> 모스부호 규칙 표\n",
        "```\n",
        "문자 부호\t문자   부호\n",
        "A\t .-\t    N\t    -.\n",
        "B\t -...\tO\t    ---\n",
        "C\t -.-.\tP\t    .--.\n",
        "D\t -..\tQ\t    --.-\n",
        "E\t .\t    R\t    .-.\n",
        "F\t ..-.\tS\t    ...\n",
        "G\t --.\tT\t    -\n",
        "H\t ....\tU\t    ..-\n",
        "I\t ..\t    V\t    ...-\n",
        "J\t .---\tW\t    .--\n",
        "K\t -.-\tX\t    -..-\n",
        "L\t .-..\tY\t    -.--\n",
        "M\t --\t    Z\t    --..\n",
        "```"
      ]
    },
    {
      "cell_type": "code",
      "metadata": {
        "colab_type": "code",
        "id": "ciZbyRFrL4UF",
        "colab": {
          "base_uri": "https://localhost:8080/",
          "height": 34
        },
        "outputId": "82f0e5b7-703d-4732-ee4c-35862885433c"
      },
      "source": [
        "# [Q16] Code-1\n",
        "dic = { '.-':'A','-...':'B','-.-.':'C','-..':'D','.':'E','..-.':'F',\n",
        "       '--.':'G','....':'H','..':'I','.---':'J','-.-':'K','.-..':'L',\n",
        "       '--':'M','-.':'N','---':'O','.--.':'P','--.-':'Q','.-.':'R',\n",
        "       '...':'S','-':'T','..-':'U','...-':'V','.--':'W','-..-':'X',\n",
        "        '-.--':'Y','--..':'Z'\n",
        "        }\n",
        "\n",
        "def morse(source):\n",
        "  result = []\n",
        "  for i in source.split(\"  \"):\n",
        "    for j in i.split(\" \"):\n",
        "      result.append(dic[j])\n",
        "    result.append(\" \")\n",
        "  return \"\".join(result)\n",
        "\n",
        "print(morse('.... .  ... .-.. . . .--. ...  . .- .-. .-.. -.--'))\n"
      ],
      "execution_count": null,
      "outputs": [
        {
          "output_type": "stream",
          "text": [
            "HE SLEEPS EARLY \n"
          ],
          "name": "stdout"
        }
      ]
    },
    {
      "cell_type": "markdown",
      "metadata": {
        "id": "qB1LMaanmpUi",
        "colab_type": "text"
      },
      "source": [
        "### Code 16-1번 풀이\n",
        "1. dic이라는 딕셔너리 안에 각각에 맞는 모스부호와 알파벳을 넣어준다.\n",
        "2. 각각에 대응하는 것들을 result안에 넣어 출력한다."
      ]
    },
    {
      "cell_type": "code",
      "metadata": {
        "id": "LaT8zhp1ZGpi",
        "colab_type": "code",
        "colab": {
          "base_uri": "https://localhost:8080/",
          "height": 34
        },
        "outputId": "297fc87d-12ee-4a7a-975a-10e470ef67b4"
      },
      "source": [
        "dic = {'':' ','.-':'A','-...':'B','-.-.':'C','-..':'D','.':'E','..-.':'F','--.':'G','....':'H','..':'I','.---':'J','-.-':'K','.-..':'L','--':'M','-.':'N','---':'O','.--.':'P','--.-':'Q','.-.':'R','...':'S','-':'T','..-':'U','...-':'V','.--':'W','-..-':'X','-.--':'Y','--..':'Z'}\n",
        "morse=\".... .  ... .-.. . . .--. ...  . .- .-. .-.. -.--\"\n",
        "word=morse.split(\" \")\n",
        "for i in word:\n",
        "    print(dic[i],end=\"\")"
      ],
      "execution_count": null,
      "outputs": [
        {
          "output_type": "stream",
          "text": [
            "HE SLEEPS EARLY"
          ],
          "name": "stdout"
        }
      ]
    },
    {
      "cell_type": "markdown",
      "metadata": {
        "id": "S4j27uSQm86H",
        "colab_type": "text"
      },
      "source": [
        "### Code 16-2번 풀이\n",
        "1. dic이라는 딕셔너리 안에 각각에 맞는 모스부호와 알파벳을 넣어준다.\n",
        "2. 각각에 대응하는 것들을 result안에 넣어 출력한다."
      ]
    },
    {
      "cell_type": "markdown",
      "metadata": {
        "id": "om4sRiRhMosn",
        "colab_type": "text"
      },
      "source": [
        "\n",
        "\n",
        "---\n",
        "\n",
        "# 다음 정규식 문제는 기말고사 후에 도전해 보세요."
      ]
    },
    {
      "cell_type": "markdown",
      "metadata": {
        "id": "nazB2KXYOm5R",
        "colab_type": "text"
      },
      "source": [
        "## Regular Expression\n",
        "- import re"
      ]
    },
    {
      "cell_type": "markdown",
      "metadata": {
        "colab_type": "text",
        "id": "AN8kEO30L5NE"
      },
      "source": [
        "## Q17. 기초 메타 문자\n",
        "> 다음 중 정규식 a[.]{3,}b과 매치되는 문자열은 무엇일까?\n",
        "\n",
        "\n",
        "```\n",
        "acccb\n",
        "a....b\n",
        "aaab\n",
        "a.cccb\n",
        "```\n"
      ]
    },
    {
      "cell_type": "code",
      "metadata": {
        "colab_type": "code",
        "id": "uKQWoUqhL5NG",
        "colab": {}
      },
      "source": [
        "# [Q17] Code\n",
        "\n"
      ],
      "execution_count": null,
      "outputs": []
    },
    {
      "cell_type": "markdown",
      "metadata": {
        "colab_type": "text",
        "id": "0dEWfwATL6DE"
      },
      "source": [
        "## Q18. 문자열 검색\n",
        "> 다음 코드의 결괏값은 무엇일까?\n",
        "\n",
        "```\n",
        ">>> import re\n",
        ">>> p = re.compile(\"[a-z]+\")\n",
        ">>> m = p.search(\"5 python\")\n",
        ">>> m.start() + m.end()\n",
        "```\n"
      ]
    },
    {
      "cell_type": "code",
      "metadata": {
        "colab_type": "code",
        "id": "Ip11Dmo7L6DH",
        "colab": {}
      },
      "source": [
        "# [Q18] Code\n",
        "\n"
      ],
      "execution_count": null,
      "outputs": []
    },
    {
      "cell_type": "markdown",
      "metadata": {
        "colab_type": "text",
        "id": "8QizaqrUL62E"
      },
      "source": [
        "## Q19. 그루핑\n",
        "> 다음과 같은 문자열에서 휴대폰 번호 뒷자리인 숫자 4개를 ####로 바꾸는 프로그램을 정규식을 사용하여 작성하시오.\n",
        "\n",
        "```\n",
        "park 010-9999-9988\n",
        "kim 010-9909-7789\n",
        "lee 010-8789-7768\n",
        "```\n"
      ]
    },
    {
      "cell_type": "code",
      "metadata": {
        "colab_type": "code",
        "id": "bfRvchIlL62H",
        "colab": {}
      },
      "source": [
        "# [Q19] Code\n",
        "\n"
      ],
      "execution_count": null,
      "outputs": []
    },
    {
      "cell_type": "markdown",
      "metadata": {
        "colab_type": "text",
        "id": "0DumiUQoL7jk"
      },
      "source": [
        "## Q20. 전방 탐색\n",
        "> 다음은 이메일 주소를 나타내는 정규식이다. 이 정규식은 park@naver.com, kim@daum.net, lee@myhome.co.kr 등과 매치된다. 긍정형 전방 탐색 기법을 사용하여 .com, .net이 아닌 이메일 주소는 제외시키는 정규식을 작성하시오.\n",
        "\n",
        "```\n",
        ".*[@].*[.].*$\n",
        "```\n"
      ]
    },
    {
      "cell_type": "code",
      "metadata": {
        "colab_type": "code",
        "id": "9S9UUOkFL7jl",
        "colab": {}
      },
      "source": [
        "# [Q20] Code\n",
        "\n"
      ],
      "execution_count": null,
      "outputs": []
    },
    {
      "cell_type": "markdown",
      "metadata": {
        "id": "2ljBDShkbqZO",
        "colab_type": "text"
      },
      "source": [
        "## 코딩 연습 결과를 github에 올리기\n",
        "> 완성된 ipython 노트북 파일을 각자의 github에 올리시오.\n",
        "\n",
        "- github 계정 만들기 (계정이 없는 학생)\n",
        "    1. github에 sign up (Google gmail 계정을 이용해서 만드시오.)\n",
        "- github에 노트 올리기\n",
        "    2. github에 각자의 id로 repo를 만드시오. (한번 만들면 계속 재사용)\n",
        "    3. github repo에 연습결과 노트를 올리시오.\n",
        "        - 제출노트: ch8_exercises_id.ipynb\n"
      ]
    },
    {
      "cell_type": "code",
      "metadata": {
        "id": "OnCR-YNCc8B6",
        "colab_type": "code",
        "colab": {}
      },
      "source": [
        ""
      ],
      "execution_count": null,
      "outputs": []
    }
  ]
}